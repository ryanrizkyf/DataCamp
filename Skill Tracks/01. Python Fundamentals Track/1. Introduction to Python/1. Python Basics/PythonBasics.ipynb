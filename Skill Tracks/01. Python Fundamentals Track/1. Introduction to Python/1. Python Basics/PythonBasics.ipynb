{
 "cells": [
  {
   "cell_type": "markdown",
   "metadata": {},
   "source": [
    "# Python Basics\n",
    "An introduction to the basic concepts of Python. Learn how to use Python interactively and by using a script. Create your first variables and acquaint yourself with Python's basic data types."
   ]
  },
  {
   "cell_type": "code",
   "execution_count": 1,
   "metadata": {},
   "outputs": [
    {
     "name": "stdout",
     "output_type": "stream",
     "text": [
      "0.625\n",
      "17\n"
     ]
    }
   ],
   "source": [
    "# 1. Python Interface\n",
    "\n",
    "# Experiment in the IPython Shell; type 5 / 8, for example.\n",
    "# print(7 + 10).\n",
    "\n",
    "# Example, do not modify!\n",
    "print(5 / 8)\n",
    "\n",
    "# Print the sum of 7 and 10\n",
    "print(7 + 10)"
   ]
  },
  {
   "cell_type": "code",
   "execution_count": 2,
   "metadata": {},
   "outputs": [
    {
     "name": "stdout",
     "output_type": "stream",
     "text": [
      "0.625\n",
      "17\n"
     ]
    }
   ],
   "source": [
    "# 2. Comments in Python\n",
    "\n",
    "# To add comments to your Python script, you can use the # tag. \n",
    "# These comments are not run as Python code, so they will not influence your result. \n",
    "# As an example, take the comment in the editor, # Division; it is completely ignored during execution.\n",
    "\n",
    "# Division\n",
    "print(5 / 8)\n",
    "\n",
    "# Addition\n",
    "print(7 + 10)"
   ]
  },
  {
   "cell_type": "code",
   "execution_count": 3,
   "metadata": {},
   "outputs": [
    {
     "name": "stdout",
     "output_type": "stream",
     "text": [
      "10\n",
      "0\n",
      "15\n",
      "5.0\n",
      "4\n",
      "16\n",
      "194.87171000000012\n"
     ]
    }
   ],
   "source": [
    "# 3. Python as Calculator\n",
    "\n",
    "# Python is perfectly suited to do basic calculations. \n",
    "# Apart from addition, subtraction, multiplication and division, there is also support for more advanced operations such as:\n",
    "\n",
    "# Exponentiation: **. This operator raises the number to its left to the power of the number to its right. For example 4**2 will give 16.\n",
    "# Modulo: %. This operator returns the remainder of the division of the number to the left by the number on its right. For example 18 % 7 equals 4.\n",
    "\n",
    "# Instructions\n",
    "# Suppose you have $100, which you can invest with a 10% return each year. \n",
    "# After one year, it's 100 x 1.1 = 110 dollars, and after two years it's 100 x 1.1 x 1.1 = 121. \n",
    "# Add code to calculate how much money you end up with after 7 years, and print the result.\n",
    "\n",
    "# Addition, subtraction\n",
    "print(5 + 5)\n",
    "print(5 - 5)\n",
    "\n",
    "# Multiplication, division, modulo, and exponentiation\n",
    "print(3 * 5)\n",
    "print(10 / 2)\n",
    "print(18 % 7)\n",
    "print(4 ** 2)\n",
    "\n",
    "# How much is your $100 worth after 7 years?\n",
    "print(100 * 1.1 ** 7)"
   ]
  },
  {
   "cell_type": "code",
   "execution_count": 4,
   "metadata": {},
   "outputs": [
    {
     "name": "stdout",
     "output_type": "stream",
     "text": [
      "100\n"
     ]
    }
   ],
   "source": [
    "# 4. Variable Assignment\n",
    "\n",
    "# In Python, a variable allows you to refer to a value with a name. To create a variable use =, like this example:\n",
    "# x = 5\n",
    "# You can now use the name of this variable, x, instead of the actual value, 5.\n",
    "# Remember, = in Python means assignment, it doesn't test equality!\n",
    "\n",
    "# Create a variable savings\n",
    "savings = 100\n",
    "\n",
    "# Print out savings\n",
    "print(savings)"
   ]
  },
  {
   "cell_type": "code",
   "execution_count": 5,
   "metadata": {},
   "outputs": [
    {
     "name": "stdout",
     "output_type": "stream",
     "text": [
      "194.87171000000012\n"
     ]
    }
   ],
   "source": [
    "# 5. Calculation with Variables\n",
    "\n",
    "# Remember how you calculated the money you ended up with after 7 years of investing $100? You did something like this:\n",
    "# 100 * 1.1 ** 7\n",
    "# Instead of calculating with the actual values, you can use variables instead. \n",
    "# The savings variable you've created in the previous exercise represents the $100 you started with. \n",
    "# It's up to you to create a new variable to represent 1.1 and then redo the calculations!\n",
    "\n",
    "# Instructions\n",
    "# Create a variable growth_multiplier, equal to 1.1.\n",
    "# Create a variable, result, equal to the amount of money you saved after 7 years.\n",
    "# Print out the value of result.\n",
    "\n",
    "# Create a variable savings\n",
    "savings = 100\n",
    "\n",
    "# Create a variable growth_multiplier\n",
    "growth_multiplier = 1.1\n",
    "\n",
    "# Calculate result\n",
    "result = savings * growth_multiplier ** 7\n",
    "\n",
    "# Print out result\n",
    "print(result)"
   ]
  },
  {
   "cell_type": "code",
   "execution_count": 6,
   "metadata": {},
   "outputs": [],
   "source": [
    "# 6. Other Variable Types\n",
    "\n",
    "# In the previous exercise, you worked with two Python data types:\n",
    "# int, or integer: a number without a fractional part. savings, with the value 100, is an example of an integer.\n",
    "# float, or floating point: a number that has both an integer and fractional part, separated by a point. \n",
    "# growth_multiplier, with the value 1.1, is an example of a float.\n",
    "\n",
    "# Next to numerical data types, there are two other very common data types:\n",
    "# str, or string: a type to represent text. You can use single or double quotes to build a string.\n",
    "# bool, or boolean: a type to represent logical values. Can only be True or False (the capitalization is important!).\n",
    "\n",
    "# Instructions\n",
    "# Create a new string, desc, with the value \"compound interest\".\n",
    "# Create a new boolean, profitable, with the value True.\n",
    "\n",
    "# Create a variable desc\n",
    "desc  = \"compound interest\"\n",
    "\n",
    "# Create a variable profitable\n",
    "profitable = True"
   ]
  },
  {
   "cell_type": "code",
   "execution_count": 7,
   "metadata": {},
   "outputs": [
    {
     "name": "stdout",
     "output_type": "stream",
     "text": [
      "<class 'float'>\n",
      "compound interestcompound interest\n"
     ]
    }
   ],
   "source": [
    "# 7. Operations with other Types\n",
    "\n",
    "# Hugo mentioned that different types behave differently in Python.\n",
    "# When you sum two strings, for example, you'll get different behavior than when you sum two integers or two booleans.\n",
    "# In the script some variables with different types have already been created. It's up to you to use them.\n",
    "\n",
    "# Instructions\n",
    "# Calculate the product of savings and growth_multiplier. Store the result in year1.\n",
    "# What do you think the resulting type will be? Find out by printing out the type of year1.\n",
    "# Calculate the sum of desc and desc and store the result in a new variable doubledesc.\n",
    "# Print out doubledesc. Did you expect this?\n",
    "\n",
    "savings = 100\n",
    "growth_multiplier = 1.1\n",
    "desc = \"compound interest\"\n",
    "\n",
    "# Assign product of growth_multiplier and savings to year1\n",
    "year1 = savings * growth_multiplier\n",
    "\n",
    "# Print the type of year1\n",
    "print(type(year1))\n",
    "\n",
    "# Assign sum of desc and desc to doubledesc\n",
    "doubledesc = desc + desc\n",
    "\n",
    "# Print out doubledesc\n",
    "print(doubledesc)\n",
    "\n",
    "# Notice how desc + desc causes \"compound interest\" and \"compound interest\" to be pasted together."
   ]
  },
  {
   "cell_type": "code",
   "execution_count": 8,
   "metadata": {},
   "outputs": [
    {
     "name": "stdout",
     "output_type": "stream",
     "text": [
      "I started with $100 and now have $194.87171000000012. Awesome!\n"
     ]
    }
   ],
   "source": [
    "# 8. Type Conversion\n",
    "\n",
    "# Using the + operator to paste together two strings can be very useful in building custom messages.\n",
    "\n",
    "# Suppose, for example, that you've calculated the return of your investment and want to summarize the results in a string. \n",
    "# Assuming the integer savings and float result are defined, you can try something like this:\n",
    "# print(\"I started with $\" + savings + \" and now have $\" + result + \". Awesome!\")\n",
    "# This will not work, though, as you cannot simply sum strings and integers/floats.\n",
    "\n",
    "# To fix the error, you'll need to explicitly convert the types of your variables. \n",
    "# More specifically, you'll need str(), to convert a value into a string. str(savings), for example, will convert the integer savings to a string.\n",
    "\n",
    "# Similar functions such as int(), float() and bool() will help you convert Python values into any type.\n",
    "\n",
    "# Definition of savings and result\n",
    "savings = 100\n",
    "result = 100 * 1.10 ** 7\n",
    "\n",
    "# Fix the printout\n",
    "print(\"I started with $\" + str(savings) + \" and now have $\" + str(result) + \". Awesome!\")\n",
    "\n",
    "# Definition of pi_string\n",
    "pi_string = \"3.1415926\"\n",
    "\n",
    "# Convert pi_string into float: pi_float\n",
    "pi_float = float(pi_string)\n",
    "\n",
    "# Great! You have a profit of around $95; that's pretty awesome indeed!"
   ]
  }
 ],
 "metadata": {
  "interpreter": {
   "hash": "117c4d106897c6f9d5f3860ef4ed39e54783789c7959aeae97ea78bbc55f9e4e"
  },
  "kernelspec": {
   "display_name": "Python 3.8.8 64-bit ('base': conda)",
   "name": "python3"
  },
  "language_info": {
   "codemirror_mode": {
    "name": "ipython",
    "version": 3
   },
   "file_extension": ".py",
   "mimetype": "text/x-python",
   "name": "python",
   "nbconvert_exporter": "python",
   "pygments_lexer": "ipython3",
   "version": "3.8.8"
  },
  "orig_nbformat": 4
 },
 "nbformat": 4,
 "nbformat_minor": 2
}
