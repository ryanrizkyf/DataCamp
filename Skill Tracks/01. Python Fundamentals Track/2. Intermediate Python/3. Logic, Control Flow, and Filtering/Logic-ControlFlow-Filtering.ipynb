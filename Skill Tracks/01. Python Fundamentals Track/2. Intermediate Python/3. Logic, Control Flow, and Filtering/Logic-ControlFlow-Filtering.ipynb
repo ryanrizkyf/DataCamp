{
 "cells": [
  {
   "cell_type": "markdown",
   "metadata": {},
   "source": [
    "# Logic, Control Flow, and Filtering\n",
    "Boolean logic is the foundation of decision-making in Python programs. Learn about different comparison operators, how to combine them with Boolean operators, and how to use the Boolean outcomes in control structures. You'll also learn to filter data in pandas DataFrames using logic."
   ]
  },
  {
   "cell_type": "code",
   "execution_count": 1,
   "metadata": {},
   "outputs": [
    {
     "name": "stdout",
     "output_type": "stream",
     "text": [
      "False\n",
      "True\n",
      "False\n",
      "True\n"
     ]
    }
   ],
   "source": [
    "# 1. Equality\n",
    "\n",
    "# To check if two Python values, or variables, are equal you can use ==. \n",
    "# To check for inequality, you need !=. As a refresher, have a look at the following examples that all result in True. \n",
    "# Feel free to try them out in the IPython Shell.\n",
    "\n",
    "# 2 == (1 + 1)\n",
    "# \"intermediate\" != \"python\"\n",
    "# True != False\n",
    "# \"Python\" != \"python\"\n",
    "\n",
    "# When you write these comparisons in a script, you will need to wrap a print() function around them to see the output.\n",
    "\n",
    "# Instructions\n",
    "# In the editor on the right, write code to see if True equals False.\n",
    "# Write Python code to check if -5 * 15 is not equal to 75.\n",
    "# Ask Python whether the strings \"pyscript\" and \"PyScript\" are equal.\n",
    "# What happens if you compare booleans and integers? Write code to see if True and 1 are equal.\n",
    "\n",
    "# Comparison of booleans\n",
    "print(True == False)\n",
    "\n",
    "# Comparison of integers\n",
    "print(-5*15 != 75)\n",
    "\n",
    "# Comparison of strings\n",
    "print('pyscript' == 'PyScript')\n",
    "\n",
    "# Compare a boolean with an integer\n",
    "print(True == 1)\n",
    "\n",
    "# The last comparison worked fine because actually, \n",
    "# a boolean is a special kind of integer: True corresponds to 1, False corresponds to 0."
   ]
  },
  {
   "cell_type": "code",
   "execution_count": 2,
   "metadata": {},
   "outputs": [
    {
     "name": "stdout",
     "output_type": "stream",
     "text": [
      "False\n",
      "True\n",
      "True\n"
     ]
    }
   ],
   "source": [
    "# 2. Greater and Less Than\n",
    "\n",
    "# In the video, Hugo also talked about the less than and greater than signs, < and > in Python. \n",
    "# You can combine them with an equals sign: <= and >=. Pay attention: <= is valid syntax, but =< is not.\n",
    "\n",
    "# All Python expressions in the following code chunk evaluate to True:\n",
    "\n",
    "# 3 < 4\n",
    "# 3 <= 4\n",
    "# \"alpha\" <= \"beta\"\n",
    "\n",
    "# Remember that for string comparison, Python determines the relationship based on alphabetical order.\n",
    "\n",
    "# Instructions\n",
    "# Write Python expressions, wrapped in a print() function, to check whether:\n",
    "# x is greater than or equal to -10. x has already been defined for you.\n",
    "# \"test\" is less than or equal to y. y has already been defined for you.\n",
    "# True is greater than False.\n",
    "\n",
    "# Comparison of integers\n",
    "x = -3 * 6\n",
    "print(x >= -10)\n",
    "\n",
    "# Comparison of strings\n",
    "y = \"test\"\n",
    "print('test' <= y)\n",
    "\n",
    "# Comparison of booleans\n",
    "print(True > False)"
   ]
  },
  {
   "cell_type": "code",
   "execution_count": 3,
   "metadata": {},
   "outputs": [
    {
     "name": "stdout",
     "output_type": "stream",
     "text": [
      "[ True  True False False]\n",
      "[False  True  True False]\n"
     ]
    }
   ],
   "source": [
    "# 3. Compare Arrays\n",
    "\n",
    "# Out of the box, you can also use comparison operators with Numpy arrays.\n",
    "\n",
    "# Remember areas, the list of area measurements for different rooms in your house from Introduction to Python? \n",
    "# This time there's two Numpy arrays: my_house and your_house. \n",
    "# They both contain the areas for the kitchen, living room, bedroom and bathroom in the same order, so you can compare them.\n",
    "\n",
    "# Instructions\n",
    "# Using comparison operators, generate boolean arrays that answer the following questions:\n",
    "# Which areas in my_house are greater than or equal to 18?\n",
    "# You can also compare two Numpy arrays element-wise. Which areas in my_house are smaller than the ones in your_house?\n",
    "# Make sure to wrap both commands in a print() statement so that you can inspect the output!\n",
    "\n",
    "# Create arrays\n",
    "import numpy as np\n",
    "my_house = np.array([18.0, 20.0, 10.75, 9.50])\n",
    "your_house = np.array([14.0, 24.0, 14.25, 9.0])\n",
    "\n",
    "# my_house greater than or equal to 18\n",
    "print(my_house >= 18)\n",
    "\n",
    "# my_house less than your_house\n",
    "print(my_house < your_house)\n",
    "\n",
    "# It appears that the living room and bedroom in my_house are smaller than the corresponding areas in your_house"
   ]
  },
  {
   "cell_type": "code",
   "execution_count": 4,
   "metadata": {},
   "outputs": [
    {
     "name": "stdout",
     "output_type": "stream",
     "text": [
      "False\n",
      "True\n",
      "True\n"
     ]
    }
   ],
   "source": [
    "# 4. And, Or, Not - Part 1\n",
    "\n",
    "# A boolean is either 1 or 0, True or False. \n",
    "# With boolean operators such as and, or and not, you can combine these booleans to perform more advanced queries on your data.\n",
    "\n",
    "# In the sample code, two variables are defined: my_kitchen and your_kitchen, representing areas.\n",
    "\n",
    "# Instructions\n",
    "# Write Python expressions, wrapped in a print() function, to check whether:\n",
    "# my_kitchen is bigger than 10 and smaller than 18.\n",
    "# my_kitchen is smaller than 14 or bigger than 17.\n",
    "# double the area of my_kitchen is smaller than triple the area of your_kitchen.\n",
    "\n",
    "# Define variables\n",
    "my_kitchen = 18.0\n",
    "your_kitchen = 14.0\n",
    "\n",
    "# my_kitchen bigger than 10 and smaller than 18?\n",
    "print(my_kitchen > 10 and  my_kitchen < 18)\n",
    "\n",
    "# my_kitchen smaller than 14 or bigger than 17?\n",
    "print(my_kitchen < 14 or my_kitchen > 17)\n",
    "\n",
    "# Double my_kitchen smaller than triple your_kitchen?\n",
    "print(my_kitchen * 2 < your_kitchen * 3)"
   ]
  },
  {
   "cell_type": "code",
   "execution_count": 5,
   "metadata": {},
   "outputs": [
    {
     "name": "stdout",
     "output_type": "stream",
     "text": [
      "False\n"
     ]
    }
   ],
   "source": [
    "# 5. And, Or, Not - Part 2\n",
    "\n",
    "# To see if you completely understood the boolean operators, have a look at the following piece of Python code:\n",
    "\n",
    "x = 8\n",
    "y = 9\n",
    "print(not(not(x < 3) and not(y > 14 or y > 10)))\n",
    "\n",
    "# What will the result be if you execute these three commands in the IPython Shell?\n",
    "\n",
    "# NB: Notice that not has a higher priority than and and or, it is executed first.\n",
    "\n",
    "# x < 3 is False. \n",
    "# y > 14 or y > 10 is False as well. \n",
    "# If you continue working like this, simplifying from inside outwards, you'll end up with False."
   ]
  },
  {
   "cell_type": "code",
   "execution_count": 6,
   "metadata": {},
   "outputs": [
    {
     "name": "stdout",
     "output_type": "stream",
     "text": [
      "[False  True False  True]\n",
      "[False False False  True]\n"
     ]
    }
   ],
   "source": [
    "# 6. Boolean Operators with NumPy\n",
    "\n",
    "# Before, the operational operators like < and >= worked with Numpy arrays out of the box. \n",
    "# Unfortunately, this is not true for the boolean operators and, or, and not.\n",
    "\n",
    "# To use these operators with Numpy, you will need np.logical_and(), np.logical_or() and np.logical_not(). \n",
    "# Here's an example on the my_house and your_house arrays from before to give you an idea:\n",
    "\n",
    "# np.logical_and(my_house > 13, \n",
    "#               your_house < 15)\n",
    "\n",
    "# Instructions\n",
    "# Generate boolean arrays that answer the following questions:\n",
    "# Which areas in my_house are greater than 18.5 or smaller than 10?\n",
    "# Which areas are smaller than 11 in both my_house and your_house? \n",
    "# Make sure to wrap both commands in print() statement, so that you can inspect the output.\n",
    "\n",
    "# Create arrays\n",
    "import numpy as np\n",
    "my_house = np.array([18.0, 20.0, 10.75, 9.50])\n",
    "your_house = np.array([14.0, 24.0, 14.25, 9.0])\n",
    "\n",
    "# my_house greater than 18.5 or smaller than 10\n",
    "print(np.logical_or(my_house > 18.5, my_house < 10))\n",
    "\n",
    "# Both my_house and your_house smaller than 11\n",
    "print(np.logical_and(my_house < 11, your_house < 11))"
   ]
  },
  {
   "cell_type": "code",
   "execution_count": 7,
   "metadata": {},
   "outputs": [
    {
     "name": "stdout",
     "output_type": "stream",
     "text": [
      "medium\n"
     ]
    }
   ],
   "source": [
    "# 7. Warmup\n",
    "\n",
    "# To experiment with if and else a bit, have a look at this code sample:\n",
    "\n",
    "area = 10.0\n",
    "if(area < 9) :\n",
    "    print(\"small\")\n",
    "elif(area < 12) :\n",
    "    print(\"medium\")\n",
    "else :\n",
    "    print(\"large\")\n",
    "\n",
    "# What will the output be if you run this piece of code in the IPython Shell?\n",
    "\n",
    "# medium"
   ]
  },
  {
   "cell_type": "code",
   "execution_count": 8,
   "metadata": {},
   "outputs": [
    {
     "name": "stdout",
     "output_type": "stream",
     "text": [
      "looking around in the kitchen.\n"
     ]
    }
   ],
   "source": [
    "# 8. If\n",
    "\n",
    "# It's time to take a closer look around in your house.\n",
    "\n",
    "# Two variables are defined in the sample code: room, a string that tells you which room of the house we're looking at, and area, the area of that room.\n",
    "\n",
    "# Instructions\n",
    "# Examine the if statement that prints out \"Looking around in the kitchen.\" if room equals \"kit\".\n",
    "# Write another if statement that prints out \"big place!\" if area is greater than 15.\n",
    "\n",
    "# Define variables\n",
    "room = \"kit\"\n",
    "area = 14.0\n",
    "\n",
    "# if statement for room\n",
    "if room == \"kit\" :\n",
    "    print(\"looking around in the kitchen.\")\n",
    "\n",
    "# if statement for area\n",
    "if area > 15:\n",
    "    print('big place!')\n",
    "\n",
    "# Great! big place! wasn't printed, because area > 15 is not True. \n",
    "# Experiment with other values of room and area to see how the printouts change."
   ]
  },
  {
   "cell_type": "code",
   "execution_count": 9,
   "metadata": {},
   "outputs": [
    {
     "name": "stdout",
     "output_type": "stream",
     "text": [
      "looking around in the kitchen.\n",
      "pretty small.\n"
     ]
    }
   ],
   "source": [
    "# 9. Add Else\n",
    "\n",
    "# In the script, the if construct for room has been extended with an else statement so that \"looking around elsewhere.\" \n",
    "# is printed if the condition room == \"kit\" evaluates to False.\n",
    "\n",
    "# Can you do a similar thing to add more functionality to the if construct for area?\n",
    "\n",
    "# Instructions\n",
    "# Add an else statement to the second control structure so that \"pretty small.\" is printed out if area > 15 evaluates to False.\n",
    "\n",
    "# Define variables\n",
    "room = \"kit\"\n",
    "area = 14.0\n",
    "\n",
    "# if-else construct for room\n",
    "if room == \"kit\" :\n",
    "    print(\"looking around in the kitchen.\")\n",
    "else :\n",
    "    print(\"looking around elsewhere.\")\n",
    "\n",
    "# if-else construct for area\n",
    "if area > 15 :\n",
    "    print(\"big place!\")\n",
    "else:\n",
    "    print('pretty small.')"
   ]
  },
  {
   "cell_type": "code",
   "execution_count": 10,
   "metadata": {},
   "outputs": [
    {
     "name": "stdout",
     "output_type": "stream",
     "text": [
      "looking around in the bedroom.\n",
      "medium size, nice!\n"
     ]
    }
   ],
   "source": [
    "# 10. Customize Further: Elif\n",
    "\n",
    "# It's also possible to have a look around in the bedroom. The sample code contains an elif part that checks if room equals \"bed\". \n",
    "# In that case, \"looking around in the bedroom.\" is printed out.\n",
    "\n",
    "# It's up to you now! Make a similar addition to the second control structure to further customize the messages for different values of area.\n",
    "\n",
    "# Instructions\n",
    "# Add an elif to the second control structure such that \"medium size, nice!\" is printed out if area is greater than 10.\n",
    "\n",
    "# Define variables\n",
    "room = \"bed\"\n",
    "area = 14.0\n",
    "\n",
    "# if-elif-else construct for room\n",
    "if room == \"kit\" :\n",
    "    print(\"looking around in the kitchen.\")\n",
    "elif room == \"bed\":\n",
    "    print(\"looking around in the bedroom.\")\n",
    "else :\n",
    "    print(\"looking around elsewhere.\")\n",
    "\n",
    "# if-elif-else construct for area\n",
    "if area > 15 :\n",
    "    print(\"big place!\")\n",
    "elif area > 10:\n",
    "    print('medium size, nice!')\n",
    "else :\n",
    "    print(\"pretty small.\")"
   ]
  },
  {
   "cell_type": "code",
   "execution_count": 11,
   "metadata": {},
   "outputs": [],
   "source": [
    "# 11. Driving Right - Part 1\n",
    "\n",
    "# Remember that cars dataset, containing the cars per 1000 people (cars_per_cap) and whether people drive right (drives_right) for different countries (country)? \n",
    "# The code that imports this data in CSV format into Python as a DataFrame is included in the script.\n",
    "\n",
    "# In the video, you saw a step-by-step approach to filter observations from a DataFrame based on boolean arrays. \n",
    "# Let's start simple and try to find all observations in cars where drives_right is True.\n",
    "\n",
    "# drives_right is a boolean column, so you'll have to extract it as a Series and then use this boolean Series to select observations from cars.\n",
    "\n",
    "# Instructions\n",
    "# Extract the drives_right column as a Pandas Series and store it as dr.\n",
    "# Use dr, a boolean Series, to subset the cars DataFrame. Store the resulting selection in sel.\n",
    "# Print sel, and assert that drives_right is True for all observations.\n",
    "\n",
    "# # Import cars data\n",
    "# import pandas as pd\n",
    "# cars = pd.read_csv('cars.csv', index_col = 0)\n",
    "\n",
    "# Extract drives_right column as Series: dr\n",
    "# dr = cars['drives_right']\n",
    "\n",
    "# Use dr to subset cars: sel\n",
    "# sel = cars[dr]\n",
    "\n",
    "# Print sel\n",
    "# print(sel)"
   ]
  },
  {
   "cell_type": "code",
   "execution_count": 12,
   "metadata": {},
   "outputs": [],
   "source": [
    "# 12. Driving Right - Part 2\n",
    "\n",
    "# The code in the previous example worked fine, but you actually unnecessarily created a new variable dr. \n",
    "# You can achieve the same result without this intermediate variable. \n",
    "# Put the code that computes dr straight into the square brackets that select observations from cars.\n",
    "\n",
    "# Instructions\n",
    "# Convert the code to a one-liner that calculates the variable sel as before.\n",
    "\n",
    "# Import cars data\n",
    "# import pandas as pd\n",
    "# cars = pd.read_csv('cars.csv', index_col = 0)\n",
    "\n",
    "# Convert code to a one-liner\n",
    "# sel = cars[cars['drives_right']]\n",
    "\n",
    "# Print sel\n",
    "# print(sel)\n",
    "\n",
    "# cars contains 7 rows or observations, \n",
    "# sel contains 4; so in the majority of the countries in your dataset, \n",
    "# people drive on the right side of the road."
   ]
  },
  {
   "cell_type": "code",
   "execution_count": 13,
   "metadata": {},
   "outputs": [],
   "source": [
    "# 13. Cars per Capita - Part 1\n",
    "\n",
    "#  Let's stick to the cars data some more. This time you want to find out which countries have a high cars per capita figure. \n",
    "# In other words, in which countries do many people have a car, or maybe multiple cars.\n",
    "\n",
    "# Similar to the previous example, you'll want to build up a boolean Series, that you can then use to subset the cars DataFrame to select certain observations. \n",
    "# If you want to do this in a one-liner, that's perfectly fine!\n",
    "\n",
    "# Instructions\n",
    "# Select the cars_per_cap column from cars as a Pandas Series and store it as cpc.\n",
    "# Use cpc in combination with a comparison operator and 500. \n",
    "# You want to end up with a boolean Series that's True if the corresponding country has a cars_per_cap of more than 500 and False otherwise. \n",
    "# Store this boolean Series as many_cars.\n",
    "# Use many_cars to subset cars, similar to what you did before. Store the result as car_maniac.\n",
    "# Print out car_maniac to see if you got it right.\n",
    "\n",
    "# Import cars data\n",
    "# import pandas as pd\n",
    "# cars = pd.read_csv('cars.csv', index_col = 0)\n",
    "\n",
    "# Create car_maniac: observations that have a cars_per_cap over 500\n",
    "# cpc = cars['cars_per_cap']\n",
    "# many_cars = cpc > 500\n",
    "# car_maniac = cars[many_cars]\n",
    "\n",
    "# Print car_maniac\n",
    "# print(car_maniac)\n",
    "\n",
    "# The output shows that the US, Australia and Japan have a cars_per_cap of over 500."
   ]
  },
  {
   "cell_type": "code",
   "execution_count": 14,
   "metadata": {},
   "outputs": [],
   "source": [
    "# 14. Cars per Capita - Part 2\n",
    "\n",
    "# Remember about np.logical_and(), np.logical_or() and np.logical_not(), the Numpy variants of the and, or and not operators? \n",
    "# You can also use them on Pandas Series to do more advanced filtering operations.\n",
    "\n",
    "# Take this example that selects the observations that have a cars_per_cap between 10 and 80. \n",
    "# Try out these lines of code step by step to see what's happening.\n",
    "\n",
    "# cpc = cars['cars_per_cap']\n",
    "# between = np.logical_and(cpc > 10, cpc < 80)\n",
    "# medium = cars[between]\n",
    "\n",
    "# Instructions\n",
    "# Use the code sample provided to create a DataFrame medium, that includes all the observations of cars that have a cars_per_cap between 100 and 500.\n",
    "# Print out medium.\n",
    "\n",
    "# Import cars data\n",
    "# import pandas as pd\n",
    "# cars = pd.read_csv('cars.csv', index_col = 0)\n",
    "\n",
    "# Import numpy, you'll need this\n",
    "# import numpy as np\n",
    "\n",
    "# Create medium: observations with cars_per_cap between 100 and 500\n",
    "# cpc = cars['cars_per_cap']\n",
    "# between = np.logical_and(cpc > 100, cpc < 500)\n",
    "# medium = cars[between]\n",
    "\n",
    "# Print medium\n",
    "# print(medium)"
   ]
  }
 ],
 "metadata": {
  "interpreter": {
   "hash": "117c4d106897c6f9d5f3860ef4ed39e54783789c7959aeae97ea78bbc55f9e4e"
  },
  "kernelspec": {
   "display_name": "Python 3.8.8 64-bit ('base': conda)",
   "name": "python3"
  },
  "language_info": {
   "codemirror_mode": {
    "name": "ipython",
    "version": 3
   },
   "file_extension": ".py",
   "mimetype": "text/x-python",
   "name": "python",
   "nbconvert_exporter": "python",
   "pygments_lexer": "ipython3",
   "version": "3.8.8"
  },
  "orig_nbformat": 4
 },
 "nbformat": 4,
 "nbformat_minor": 2
}
