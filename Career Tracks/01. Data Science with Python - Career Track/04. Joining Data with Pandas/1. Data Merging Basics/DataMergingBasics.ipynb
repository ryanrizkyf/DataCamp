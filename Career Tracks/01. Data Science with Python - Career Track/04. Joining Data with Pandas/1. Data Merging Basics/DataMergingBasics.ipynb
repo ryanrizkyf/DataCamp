{
 "cells": [
  {
   "cell_type": "markdown",
   "metadata": {},
   "source": [
    "# Data Merging Basics\n",
    "Learn how you can merge disparate data using inner joins. By combining information from multiple sources you’ll uncover compelling insights that may have previously been hidden. You’ll also learn how the relationship between those sources, such as one-to-one or one-to-many, can affect your result."
   ]
  },
  {
   "cell_type": "code",
   "execution_count": 1,
   "metadata": {},
   "outputs": [],
   "source": [
    "import pickle as pkl\n",
    "import pandas as pd\n",
    "with open('taxi_owners.p', 'rb') as a:\n",
    "    object = pkl.load(a)\n",
    "\n",
    "taxi_owners = pd.DataFrame(object)\n",
    "taxi_owners.to_csv(r'taxi_owners.csv')"
   ]
  },
  {
   "cell_type": "code",
   "execution_count": 2,
   "metadata": {},
   "outputs": [],
   "source": [
    "import pickle as pkl\n",
    "import pandas as pd\n",
    "with open('taxi_vehicles.p', 'rb') as b:\n",
    "    object = pkl.load(b)\n",
    "\n",
    "taxi_vehicles = pd.DataFrame(object)\n",
    "taxi_vehicles.to_csv(r'taxi_vehicles.csv')"
   ]
  },
  {
   "cell_type": "code",
   "execution_count": 3,
   "metadata": {},
   "outputs": [],
   "source": [
    "import pickle as pkl\n",
    "import pandas as pd\n",
    "with open('census.p', 'rb') as c:\n",
    "    object = pkl.load(c)\n",
    "\n",
    "census = pd.DataFrame(object)\n",
    "census.to_csv(r'census.csv')"
   ]
  },
  {
   "cell_type": "code",
   "execution_count": 4,
   "metadata": {},
   "outputs": [],
   "source": [
    "import pickle as pkl\n",
    "import pandas as pd\n",
    "with open('ward.p', 'rb') as d:\n",
    "    object = pkl.load(d)\n",
    "\n",
    "ward = pd.DataFrame(object)\n",
    "ward.to_csv(r'ward.csv')"
   ]
  },
  {
   "cell_type": "code",
   "execution_count": 5,
   "metadata": {},
   "outputs": [],
   "source": [
    "import pickle as pkl\n",
    "import pandas as pd\n",
    "with open('licenses.p', 'rb') as e:\n",
    "    object = pkl.load(e)\n",
    "\n",
    "licenses = pd.DataFrame(object)\n",
    "licenses.to_csv(r'licenses.csv')"
   ]
  },
  {
   "cell_type": "code",
   "execution_count": 6,
   "metadata": {},
   "outputs": [],
   "source": [
    "import pickle as pkl\n",
    "import pandas as pd\n",
    "with open('business_owners.p', 'rb') as f:\n",
    "    object = pkl.load(f)\n",
    "\n",
    "business_owners = pd.DataFrame(object)\n",
    "business_owners.to_csv(r'business_owners.csv')"
   ]
  },
  {
   "cell_type": "code",
   "execution_count": 7,
   "metadata": {},
   "outputs": [],
   "source": [
    "import pickle as pkl\n",
    "import pandas as pd\n",
    "with open('cta_calendar.p', 'rb') as g:\n",
    "    object = pkl.load(g)\n",
    "\n",
    "cal = pd.DataFrame(object)\n",
    "cal.to_csv(r'cal.csv')"
   ]
  },
  {
   "cell_type": "code",
   "execution_count": 8,
   "metadata": {},
   "outputs": [],
   "source": [
    "import pickle as pkl\n",
    "import pandas as pd\n",
    "with open('cta_ridership.p', 'rb') as h:\n",
    "    object = pkl.load(h)\n",
    "\n",
    "ridership = pd.DataFrame(object)\n",
    "ridership.to_csv(r'ridership.csv')"
   ]
  },
  {
   "cell_type": "code",
   "execution_count": 9,
   "metadata": {},
   "outputs": [],
   "source": [
    "import pickle as pkl\n",
    "import pandas as pd\n",
    "with open('stations.p', 'rb') as i:\n",
    "    object = pkl.load(i)\n",
    "\n",
    "stations = pd.DataFrame(object)\n",
    "stations.to_csv(r'stations.csv')"
   ]
  },
  {
   "cell_type": "code",
   "execution_count": 10,
   "metadata": {},
   "outputs": [],
   "source": [
    "import pickle as pkl\n",
    "import pandas as pd\n",
    "with open('zip_demo.p', 'rb') as j:\n",
    "    object = pkl.load(j)\n",
    "\n",
    "zip_demo = pd.DataFrame(object)\n",
    "zip_demo.to_csv(r'zip_demo.csv')"
   ]
  },
  {
   "cell_type": "code",
   "execution_count": 11,
   "metadata": {},
   "outputs": [],
   "source": [
    "import pickle as pkl\n",
    "import pandas as pd\n",
    "with open('land_use.p', 'rb') as k:\n",
    "    object = pkl.load(k)\n",
    "\n",
    "land_use = pd.DataFrame(object)\n",
    "land_use.to_csv(r'land_use.csv')"
   ]
  },
  {
   "cell_type": "code",
   "execution_count": 12,
   "metadata": {},
   "outputs": [
    {
     "name": "stdout",
     "output_type": "stream",
     "text": [
      "   Unnamed: 0    rid   vid           owner                 address    zip\n",
      "0           0  T6285  6285  AGEAN TAXI LLC     4536 N. ELSTON AVE.  60630\n",
      "1           1  T4862  4862    MANGIB CORP.  5717 N. WASHTENAW AVE.  60659\n",
      "2           2  T1495  1495   FUNRIDE, INC.     3351 W. ADDISON ST.  60618\n",
      "3           3  T4231  4231    ALQUSH CORP.   6611 N. CAMPBELL AVE.  60645\n",
      "4           4  T5971  5971  EUNIFFORD INC.     3351 W. ADDISON ST.  60618\n",
      "   Unnamed: 0   vid    make   model  year fuel_type                owner\n",
      "0           0  2767  TOYOTA   CAMRY  2013    HYBRID       SEYED M. BADRI\n",
      "1           1  1411  TOYOTA    RAV4  2017    HYBRID          DESZY CORP.\n",
      "2           2  6500  NISSAN  SENTRA  2019  GASOLINE       AGAPH CAB CORP\n",
      "3           3  2746  TOYOTA   CAMRY  2013    HYBRID  MIDWEST CAB CO, INC\n",
      "4           4  5922  TOYOTA   CAMRY  2013    HYBRID       SUMETTI CAB CO\n"
     ]
    }
   ],
   "source": [
    "# 1. What Colum to Merge On?\n",
    "\n",
    "# Chicago provides a list of taxicab owners and vehicles licensed to operate within the city, for public safety. \n",
    "# Your goal is to merge two tables together. One table is called taxi_owners, with info about the taxi cab company owners, \n",
    "# and one is called taxi_veh, with info about each taxi cab vehicle. \n",
    "# Both the taxi_owners and taxi_veh tables have been loaded for you and you can explore them in the IPython shell.\n",
    "\n",
    "# Choose the column you would use to merge the two tables on using the .merge() method.\n",
    "\n",
    "taxi_owners = pd.read_csv('taxi_owners.csv')\n",
    "taxi_veh = pd.read_csv('taxi_vehicles.csv')\n",
    "\n",
    "print(taxi_owners.head())\n",
    "print(taxi_veh.head())\n",
    "\n",
    "# Answer\n",
    "# on = 'vid'"
   ]
  },
  {
   "cell_type": "code",
   "execution_count": 13,
   "metadata": {},
   "outputs": [
    {
     "name": "stdout",
     "output_type": "stream",
     "text": [
      "Index(['Unnamed: 0_own', 'rid', 'vid', 'owner_own', 'address', 'zip',\n",
      "       'Unnamed: 0_veh', 'make', 'model', 'year', 'fuel_type', 'owner_veh'],\n",
      "      dtype='object')\n",
      "HYBRID                    2792\n",
      "GASOLINE                   611\n",
      "FLEX FUEL                   89\n",
      "COMPRESSED NATURAL GAS      27\n",
      "Name: fuel_type, dtype: int64\n"
     ]
    }
   ],
   "source": [
    "# 2. Your First Inner Join\n",
    "\n",
    "# You have been tasked with figuring out what the most popular types of fuel used in Chicago taxis are. \n",
    "# To complete the analysis, you need to merge the taxi_owners and taxi_veh tables together on the vid column. \n",
    "# You can then use the merged table along with the .value_counts() method to find the most common fuel_type.\n",
    "\n",
    "# Since you'll be working with pandas throughout the course, the package will be preloaded for you as pd in each exercise in this course. \n",
    "# Also the taxi_owners and taxi_veh DataFrames are loaded for you.\n",
    "\n",
    "# Instructions\n",
    "# Merge taxi_owners with taxi_veh on the column vid, and save the result to taxi_own_veh.\n",
    "# Set the left and right table suffixes for overlapping columns of the merge to _own and _veh, respectively.\n",
    "# Select the fuel_type column from taxi_own_veh and print the value_counts() to find the most popular fuel_types used.\n",
    "\n",
    "# Merge the taxi_owners and taxi_veh tables setting a suffix\n",
    "taxi_own_veh = taxi_owners.merge(taxi_veh, on='vid', suffixes=('_own', '_veh'))\n",
    "\n",
    "# Print the column names of taxi_own_veh\n",
    "print(taxi_own_veh.columns)\n",
    "\n",
    "# Print the value_counts to find the most popular fuel_type\n",
    "print(taxi_own_veh['fuel_type'].value_counts())"
   ]
  },
  {
   "cell_type": "code",
   "execution_count": null,
   "metadata": {},
   "outputs": [],
   "source": [
    "# 3. Inner Joins and Number of Rows Returned\n",
    "\n",
    "# All of the merges you have studied to this point are called inner joins. \n",
    "# It is necessary to understand that inner joins only return the rows with matching values in both tables. \n",
    "# You will explore this further by reviewing the merge between the wards and census tables, \n",
    "# then comparing it to merges of copies of these tables that are slightly altered, named wards_altered, and census_altered. \n",
    "# The first row of the wards column has been changed in the altered tables. \n",
    "# You will examine how this affects the merge between them. \n",
    "# The tables have been loaded for you.\n",
    "\n",
    "# For this exercise, it is important to know that the wards and census tables start with 50 rows.\n",
    "\n",
    "wards = pd.read_csv('ward.csv')\n",
    "census = pd.read_csv('census.csv')\n",
    "\n",
    "# Instructions\n",
    "# Merge wards and census on the ward column and save the result to wards_census.\n",
    "# Merge the wards_altered and census tables on the ward column, and notice the difference in returned rows.\n",
    "# Merge the wards and census_altered tables on the ward column, and notice the difference in returned rows.\n",
    "\n",
    "# Merge the wards and census tables on the ward column\n",
    "wards_census = wards.merge(census, on='ward')\n",
    "\n",
    "# Print the shape of wards_census\n",
    "print('wards_census table shape:', wards_census.shape)\n",
    "\n",
    "# Print the first few rows of the wards_altered table to view the change \n",
    "print(wards_altered[['ward']].head())\n",
    "\n",
    "# Merge the wards_altered and census tables on the ward column\n",
    "wards_altered_census = wards_altered.merge(census, on='ward')\n",
    "\n",
    "# Print the shape of wards_altered_census\n",
    "print('wards_altered_census table shape:', wards_altered_census.shape)\n",
    "\n",
    "# Print the first few rows of the census_altered table to view the change \n",
    "print(census_altered[['ward']].head())\n",
    "\n",
    "# Merge the wards and census_altered tables on the ward column\n",
    "wards_census_altered = wards.merge(census_altered, on='ward')\n",
    "\n",
    "# Print the shape of wards_census_altered\n",
    "print('wards_census_altered table shape:', wards_census_altered.shape)\n"
   ]
  },
  {
   "cell_type": "code",
   "execution_count": null,
   "metadata": {},
   "outputs": [],
   "source": [
    "# 4. One-to-Many Merge\n",
    "\n",
    "# A business may have one or multiple owners. \n",
    "# In this exercise, you will continue to gain experience with one-to-many merges by merging a table of business owners, called biz_owners, to the licenses table. \n",
    "# Recall from the video lesson, with a one-to-many relationship, a row in the left table may be repeated if it is related to multiple rows in the right table. \n",
    "# In this lesson, you will explore this further by finding out what is the most common business owner title. (i.e., secretary, CEO, or vice president)\n",
    "\n",
    "# The licenses and biz_owners DataFrames are loaded for you.\n",
    "\n",
    "biz_owners = pd.read_csv('business_owners.csv')\n",
    "licenses = pd.read_csv('licenses.csv')\n",
    "\n",
    "# Instructions\n",
    "# Starting with the licenses table on the left, merge it to the biz_owners table on the column account, and save the results to a variable named licenses_owners.\n",
    "# Group licenses_owners by title and count the number of accounts for each title. Save the result as counted_df\n",
    "# Sort counted_df by the number of accounts in descending order, and save this as a variable named sorted_df.\n",
    "# Use the .head() method to print the first few rows of the sorted_df.\n",
    "\n",
    "# Merge the licenses and biz_owners table on account\n",
    "licenses_owners = licenses.merge(biz_owners, on='account')\n",
    "\n",
    "# Group the results by title then count the number of accounts\n",
    "counted_df = licenses_owners.groupby('title').agg({'account':'count'})\n",
    "\n",
    "# Sort the counted_df in desending order\n",
    "sorted_df = counted_df.sort_values('account', ascending=False)\n",
    "\n",
    "# Use .head() method to print the first few rows of sorted_df\n",
    "print(sorted_df.head())"
   ]
  },
  {
   "cell_type": "code",
   "execution_count": null,
   "metadata": {},
   "outputs": [],
   "source": [
    "# 5. Total Riders in a Month\n",
    "\n",
    "# Your goal is to find the total number of rides provided to passengers passing through the Wilson station (station_name == 'Wilson'), \n",
    "# when riding Chicago's public transportation system on weekdays (day_type == 'Weekday') in July (month == 7). \n",
    "# Luckily, Chicago provides this detailed data, but it is in three different tables. \n",
    "# You will work on merging these tables together to answer the question. \n",
    "# This data is different from the business related data you have seen so far, \n",
    "# but all the information you need to answer the question is provided.\n",
    "\n",
    "# The cal, ridership, and stations DataFrames have been loaded for you. \n",
    "# The relationship between the tables can be seen in the diagram below.\n",
    "\n",
    "# Instructions\n",
    "# Merge the ridership and cal tables together, starting with the ridership table on the left and save the result to the variable ridership_cal. \n",
    "# If you code takes too long to run, your merge conditions might be incorrect.\n",
    "# Extend the previous merge to three tables by also merging the stations table.\n",
    "# Create a variable called filter_criteria to select the appropriate rows from the merged table so that you can sum the rides column.\n",
    "\n",
    "# Merge the ridership and cal tables\n",
    "ridership_cal = ridership.merge(cal)\n",
    "\n",
    "# Merge the ridership, cal, and stations tables\n",
    "ridership_cal_stations = ridership.merge(cal, on=['year','month','day']) \\\n",
    "            \t\t\t\t.merge(stations)\n",
    "\n",
    "# Create a filter to filter ridership_cal_stations\n",
    "filter_criteria = ((ridership_cal_stations['month'] == 7) \n",
    "                   & (ridership_cal_stations['day_type'] == 'Weekday') \n",
    "                   & (ridership_cal_stations['station_name'] == 'Wilson'))\n",
    "\n",
    "# Use .loc and the filter to select for rides\n",
    "print(ridership_cal_stations.loc[filter_criteria, 'rides'].sum())\n"
   ]
  },
  {
   "cell_type": "code",
   "execution_count": null,
   "metadata": {},
   "outputs": [],
   "source": [
    "# 6. Three Table Merge\n",
    "\n",
    "# To solidify the concept of a three DataFrame merge, practice another exercise. \n",
    "# A reasonable extension of our review of Chicago business data would include looking at demographics information about the neighborhoods where the businesses are. \n",
    "# A table with the median income by zip code has been provided to you. \n",
    "# You will merge the licenses and wards tables with this new income-by-zip-code table called zip_demo.\n",
    "\n",
    "# The licenses, wards, and zip_demo DataFrames have been loaded for you.\n",
    "\n",
    "zip_demo = pd.read_csv('zip_demo.csv')\n",
    "\n",
    "# Instructions\n",
    "# Starting with the licenses table, merge to it the zip_demo table on the zip column. \n",
    "# Then merge the resulting table to the wards table on the ward column. \n",
    "# Save result of the three merged tables to a variable named licenses_zip_ward.\n",
    "# Group the results of the three merged tables by the column alderman and find the median income.\n",
    "\n",
    "# Merge licenses and zip_demo, on zip; and merge the wards on ward\n",
    "licenses_zip_ward = licenses.merge(zip_demo, on='zip') \\\n",
    "            \t\t\t.merge(wards, on='ward')\n",
    "\n",
    "# Print the results by alderman and show median income\n",
    "print(licenses_zip_ward.groupby('alderman').agg({'income':'median'}))"
   ]
  },
  {
   "cell_type": "code",
   "execution_count": null,
   "metadata": {},
   "outputs": [],
   "source": [
    "# 7. One to Many Merge with Multiple Tables\n",
    "\n",
    "# In this exercise, assume that you are looking to start a business in the city of Chicago. \n",
    "# Your perfect idea is to start a company that uses goats to mow the lawn for other businesses. \n",
    "# However, you have to choose a location in the city to put your goat farm. \n",
    "# You need a location with a great deal of space and relatively few businesses and people around to avoid complaints about the smell. \n",
    "# You will need to merge three tables to help you choose your location. \n",
    "# The land_use table has info on the percentage of vacant land by city ward. \n",
    "# The census table has population by ward, and the licenses table lists businesses by ward.\n",
    "\n",
    "# The land_use, census, and licenses tables have been loaded for you.\n",
    "\n",
    "# Instructions\n",
    "# Merge land_use and census on the ward column. \n",
    "# Merge the result of this with licenses on the ward column, using the suffix _cen for the left table and _lic for the right table. \n",
    "# Save this to the variable land_cen_lic.\n",
    "# Group land_cen_lic by ward, pop_2010 (the population in 2010), and vacant, then count the number of accounts. Save the results to pop_vac_lic.\n",
    "# Sort pop_vac_lic by vacant, account, andpop_2010 in descending, ascending, and ascending order respectively. Save it as sorted_pop_vac_lic.\n",
    "\n",
    "# Merge land_use and census and merge result with licenses including suffixes\n",
    "land_cen_lic = land_use.merge(census, on='ward') \\\n",
    "                    .merge(licenses, on='ward', suffixes=('_cen','_lic'))\n",
    "\n",
    "# Group by ward, pop_2010, and vacant, then count the # of accounts\n",
    "pop_vac_lic = land_cen_lic.groupby(['ward','pop_2010','vacant'], \n",
    "                                   as_index=False).agg({'account':'count'})\n",
    "\n",
    "# Sort pop_vac_lic and print the results\n",
    "sorted_pop_vac_lic = pop_vac_lic.sort_values(['vacant', 'account', 'pop_2010'], \n",
    "                                             ascending=[False, True, True])\n",
    "\n",
    "# Print the top few rows of sorted_pop_vac_lic\n",
    "print(sorted_pop_vac_lic.head())"
   ]
  }
 ],
 "metadata": {
  "interpreter": {
   "hash": "117c4d106897c6f9d5f3860ef4ed39e54783789c7959aeae97ea78bbc55f9e4e"
  },
  "kernelspec": {
   "display_name": "Python 3.8.8 64-bit ('base': conda)",
   "language": "python",
   "name": "python3"
  },
  "language_info": {
   "codemirror_mode": {
    "name": "ipython",
    "version": 3
   },
   "file_extension": ".py",
   "mimetype": "text/x-python",
   "name": "python",
   "nbconvert_exporter": "python",
   "pygments_lexer": "ipython3",
   "version": "3.8.8"
  },
  "orig_nbformat": 4
 },
 "nbformat": 4,
 "nbformat_minor": 2
}
