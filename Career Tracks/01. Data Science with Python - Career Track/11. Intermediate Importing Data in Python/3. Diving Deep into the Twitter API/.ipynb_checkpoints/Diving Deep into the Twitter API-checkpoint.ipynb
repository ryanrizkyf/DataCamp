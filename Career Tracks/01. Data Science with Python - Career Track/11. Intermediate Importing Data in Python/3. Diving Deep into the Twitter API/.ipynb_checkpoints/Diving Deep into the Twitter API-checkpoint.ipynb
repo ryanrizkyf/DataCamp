{
 "cells": [
  {
   "cell_type": "markdown",
   "id": "e988be96-8c87-40d9-88e6-a9ebc419ace8",
   "metadata": {},
   "source": [
    "### Diving Deep into the Twitter API\n",
    "\n",
    "In this chapter, you will consolidate your knowledge of interacting with APIs in a deep dive into the Twitter streaming API. You'll learn how to stream real-time Twitter data, and how to analyze and visualize it."
   ]
  },
  {
   "cell_type": "markdown",
   "id": "75ea3f8f-1dbb-4094-8eac-1507f99e56e1",
   "metadata": {},
   "source": [
    "### 1. API Authentication\n",
    "\n",
    " The package tweepy is great at handling all the Twitter API OAuth Authentication details for you. All you need to do is pass it your authentication credentials. In this interactive exercise, we have created some mock authentication credentials (if you wanted to replicate this at home, you would need to create a Twitter App as Hugo detailed in the video). Your task is to pass these credentials to tweepy's OAuth handler.\n",
    " \n",
    " Instructions:\n",
    " - Import the package tweepy.\n",
    " - Pass the parameters consumer_key and consumer_secret to the function tweepy.OAuthHandler().\n",
    " - Complete the passing of OAuth credentials to the OAuth handler auth by applying to it the method set_access_token(), along with arguments access_token and access_token_secret."
   ]
  },
  {
   "cell_type": "code",
   "execution_count": null,
   "id": "7f6ef8c1-91db-4769-b75f-a34cd7c1fbef",
   "metadata": {},
   "outputs": [],
   "source": [
    "# Import package\n",
    "import tweepy\n",
    "\n",
    "# Store OAuth authentication credentials in relevant variables\n",
    "access_token = \"1092294848-aHN7DcRP9B4VMTQIhwqOYiB14YkW92fFO8k8EPy\"\n",
    "access_token_secret = \"X4dHmhPfaksHcQ7SCbmZa2oYBBVSD2g8uIHXsp5CTaksx\"\n",
    "consumer_key = \"nZ6EA0FxZ293SxGNg8g8aP0HM\"\n",
    "consumer_secret = \"fJGEodwe3KiKUnsYJC3VRndj7jevVvXbK2D5EiJ2nehafRgA6i\"\n",
    "\n",
    "# Pass OAuth details to tweepy's OAuth handler\n",
    "auth = tweepy.OAuthHandler(consumer_key, consumer_secret)\n",
    "auth.set_access_token(access_token, access_token_secret)"
   ]
  },
  {
   "cell_type": "markdown",
   "id": "f4bb0148-54f9-468a-8798-7707ddc15e20",
   "metadata": {},
   "source": [
    "### 2. Streaming Tweets\n",
    "\n",
    " Now that you have set up your authentication credentials, it is time to stream some tweets! We have already defined the tweet stream listener class, MyStreamListener, just as Hugo did in the introductory video. You can find the code for the tweet stream listener class here.\n",
    "\n",
    " Your task is to create the Streamobject and to filter tweets according to particular keywords.\n",
    " \n",
    " Instructions:\n",
    " - Create your Stream object with authentication by passing tweepy.Stream() the authentication handler auth and the Stream listener l;\n",
    " - To filter Twitter streams, pass to the track argument in stream.filter() a list containing the desired keywords 'clinton', 'trump', 'sanders', and 'cruz'."
   ]
  },
  {
   "cell_type": "code",
   "execution_count": null,
   "id": "c5f9d306-1d3f-4a2e-b8ef-4bf4759d8cf7",
   "metadata": {},
   "outputs": [],
   "source": [
    "# Initialize Stream listener\n",
    "l = MyStreamListener()\n",
    "\n",
    "# Create your Stream object with authentication\n",
    "stream = tweepy.Stream(auth, l)\n",
    "\n",
    "# Filter Twitter Streams to capture data by the keywords:\n",
    "stream.filter(track=['clinton', 'trump', 'sanders', 'cruz'])"
   ]
  },
  {
   "cell_type": "markdown",
   "id": "9976a4b1-88f8-4e5b-adc0-d91064e2e7f2",
   "metadata": {},
   "source": [
    "### 3. Load and Explore your Twitter Data\n",
    "\n",
    " Now that you've got your Twitter data sitting locally in a text file, it's time to explore it! This is what you'll do in the next few interactive exercises. In this exercise, you'll read the Twitter data into a list: tweets_data.\n",
    "\n",
    " Be aware that this is real data from Twitter and as such there is always a risk that it may contain profanity or other offensive content (in this exercise, and any following exercises that also use real Twitter data).\n",
    " \n",
    " Instructions:\n",
    " - Assign the filename 'tweets.txt' to the variable tweets_data_path.\n",
    " - Initialize tweets_data as an empty list to store the tweets in.\n",
    " - Within the for loop initiated by for line in tweets_file:, load each tweet into a variable, tweet, using json.loads(), then append tweet to tweets_data using the append() method.\n",
    "Hit submit and check out the keys of the first tweet dictionary printed to the shell."
   ]
  },
  {
   "cell_type": "code",
   "execution_count": null,
   "id": "7cb7c30a-1d15-491b-8e27-2a4d3d74ec35",
   "metadata": {},
   "outputs": [],
   "source": [
    "# Import package\n",
    "import json\n",
    "\n",
    "# String of path to file: tweets_data_path\n",
    "tweets_data_path = 'tweets.txt'\n",
    "\n",
    "# Initialize empty list to store tweets: tweets_data\n",
    "tweets_data = []\n",
    "\n",
    "# Open connection to file\n",
    "tweets_file = open(tweets_data_path, \"r\")\n",
    "\n",
    "# Read in tweets and store in list: tweets_data\n",
    "for line in tweets_file:\n",
    "    tweet = json.loads(line)\n",
    "    tweets_data.append(tweet)\n",
    "\n",
    "# Close connection to file\n",
    "tweets_file.close()\n",
    "\n",
    "# Print the keys of the first tweet dict\n",
    "print(tweets_data[0].keys())"
   ]
  },
  {
   "cell_type": "markdown",
   "id": "1890dc51-5050-4e0d-87bb-dffb794f620d",
   "metadata": {},
   "source": [
    "### 4. Twitter Data to DataFrame\n",
    "\n",
    " Now you have the Twitter data in a list of dictionaries, tweets_data, where each dictionary corresponds to a single tweet. Next, you're going to extract the text and language of each tweet. The text in a tweet, t1, is stored as the value t1['text']; similarly, the language is stored in t1['lang']. Your task is to build a DataFrame in which each row is a tweet and the columns are 'text' and 'lang'.\n",
    " \n",
    " Instructions:\n",
    " - Use pd.DataFrame() to construct a DataFrame of tweet texts and languages; to do so, the first argument should be tweets_data, a list of dictionaries. The second argument to pd.DataFrame() is a list of the keys you wish to have as columns. Assign the result of the pd.DataFrame() call to df.\n",
    " - Print the head of the DataFrame."
   ]
  },
  {
   "cell_type": "code",
   "execution_count": null,
   "id": "49f9701d-487f-4e85-b0c0-4eb588c956d8",
   "metadata": {},
   "outputs": [],
   "source": [
    "# Import package\n",
    "import pandas as pd\n",
    "\n",
    "# Build DataFrame of tweet texts and languages\n",
    "df = pd.DataFrame(tweets_data, columns=['text', 'lang'])\n",
    "\n",
    "# Print head of DataFrame\n",
    "print(df.head())"
   ]
  },
  {
   "cell_type": "markdown",
   "id": "2926db36-39ea-4c21-8c44-d0b447a08f50",
   "metadata": {},
   "source": [
    "### 5. A Little Bit of Twitter Text Analysis\n",
    "\n",
    " Now that you have your DataFrame of tweets set up, you're going to do a bit of text analysis to count how many tweets contain the words 'clinton', 'trump', 'sanders' and 'cruz'. In the pre-exercise code, we have defined the following function word_in_text(), which will tell you whether the first argument (a word) occurs within the 2nd argument (a tweet).\n",
    "\n",
    " import re\n",
    "\n",
    " def word_in_text(word, text):\n",
    "     \n",
    "     word = word.lower()\n",
    "     \n",
    "     text = text.lower()\n",
    "     \n",
    "     match = re.search(word, text)\n",
    "\n",
    "    if match:\n",
    "        return True\n",
    "    return False\n",
    " \n",
    " You're going to iterate over the rows of the DataFrame and calculate how many tweets contain each of our keywords! The list of objects for each candidate has been initialized to 0.\n",
    "\n",
    " Instructions:\n",
    " - Within the for loop for index, row in df.iterrows():, the code currently increases the value of clinton by 1 each time a tweet (text row) mentioning 'Clinton' is encountered; complete the code so that the same happens for trump, sanders and cruz."
   ]
  },
  {
   "cell_type": "code",
   "execution_count": null,
   "id": "32002f4c-7db6-4704-9911-34a2fdb292ff",
   "metadata": {},
   "outputs": [],
   "source": [
    "# Initialize list to store tweet counts\n",
    "[clinton, trump, sanders, cruz] = [0, 0, 0, 0]\n",
    "\n",
    "# Iterate through df, counting the number of tweets in which\n",
    "# each candidate is mentioned\n",
    "for index, row in df.iterrows():\n",
    "    clinton += word_in_text('clinton', row['text'])\n",
    "    trump += word_in_text('trump', row['text'])\n",
    "    sanders += word_in_text('sanders', row['text'])\n",
    "    cruz += word_in_text('cruz', row['text'])"
   ]
  },
  {
   "cell_type": "markdown",
   "id": "012f5393-691c-4a3c-b2bc-b4801928c737",
   "metadata": {},
   "source": [
    "### 6. Plotting your Twitter Data\n",
    "\n",
    " Now that you have the number of tweets that each candidate was mentioned in, you can plot a bar chart of this data. You'll use the statistical data visualization library seaborn, which you may not have seen before, but we'll guide you through. You'll first import seaborn as sns. You'll then construct a barplot of the data using sns.barplot, passing it two arguments:\n",
    "\n",
    " 1. a list of labels and\n",
    " 2. a list containing the variables you wish to plot (clinton, trump and so on.)\n",
    " \n",
    " Hopefully, you'll see that Trump was unreasonably represented! We have already run the previous exercise solutions in your environment.\n",
    " \n",
    " Instructions:\n",
    " - Import both matplotlib.pyplot and seaborn using the aliases plt and sns, respectively.\n",
    " - Complete the arguments of sns.barplot:\n",
    " - The first argument should be the list of labels to appear on the x-axis (created in the previous step).\n",
    " - The second argument should be a list of the variables you wish to plot, as produced in the previous exercise (i.e. a list containing clinton, trump, etc)."
   ]
  },
  {
   "cell_type": "code",
   "execution_count": null,
   "id": "7a885919-be81-469c-a8a8-de459ba38f5f",
   "metadata": {},
   "outputs": [],
   "source": [
    "# Import packages\n",
    "import seaborn as sns\n",
    "import matplotlib.pyplot as plt\n",
    "\n",
    "# Set seaborn style\n",
    "sns.set(color_codes=True)\n",
    "\n",
    "# Create a list of labels:cd\n",
    "cd = ['clinton', 'trump', 'sanders', 'cruz']\n",
    "\n",
    "# Plot the bar chart\n",
    "ax = sns.barplot(cd, [clinton, trump, sanders, cruz])\n",
    "ax.set(ylabel=\"count\")\n",
    "plt.show()"
   ]
  }
 ],
 "metadata": {
  "kernelspec": {
   "display_name": "Python 3",
   "language": "python",
   "name": "python3"
  },
  "language_info": {
   "codemirror_mode": {
    "name": "ipython",
    "version": 3
   },
   "file_extension": ".py",
   "mimetype": "text/x-python",
   "name": "python",
   "nbconvert_exporter": "python",
   "pygments_lexer": "ipython3",
   "version": "3.8.8"
  }
 },
 "nbformat": 4,
 "nbformat_minor": 5
}
