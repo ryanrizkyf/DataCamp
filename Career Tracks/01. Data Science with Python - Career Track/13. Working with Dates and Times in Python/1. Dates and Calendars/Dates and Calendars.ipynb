{
 "cells": [
  {
   "cell_type": "markdown",
   "id": "38026dd8-1c7b-4c63-880b-8e130ee20004",
   "metadata": {},
   "source": [
    "# Dates and Calendars\n",
    "Hurricanes (also known as cyclones or typhoons) hit the U.S. state of Florida several times per year. To start off this course, you'll learn how to work with date objects in Python, starting with the dates of every hurricane to hit Florida since 1950. You'll learn how Python handles dates, common date operations, and the right way to format dates to avoid confusion."
   ]
  },
  {
   "cell_type": "code",
   "execution_count": 1,
   "id": "6f4dd46c-253b-4b72-b777-0ec9a3384438",
   "metadata": {},
   "outputs": [],
   "source": [
    "import pandas as pd\n",
    "import pickle\n",
    "\n",
    "# Open pickle file and load data: d\n",
    "with open('D:/Development/DataCamp/Data Science with Python - Career Track/13. Working with Dates and Times in Python/datasets/florida_hurricane_dates.pkl', 'rb') as file:\n",
    "    object = pickle.load(file)\n",
    "\n",
    "florida_hurricane_dates = pd.DataFrame(object)\n",
    "florida_hurricane_dates.to_csv(r'D:/Development/DataCamp/Data Science with Python - Career Track/13. Working with Dates and Times in Python/datasets/florida_hurricane_dates.csv')"
   ]
  },
  {
   "cell_type": "code",
   "execution_count": 2,
   "id": "cfbc1af9-e0cc-4a66-b4f9-24bc3853d9eb",
   "metadata": {},
   "outputs": [
    {
     "data": {
      "text/html": [
       "<div>\n",
       "<style scoped>\n",
       "    .dataframe tbody tr th:only-of-type {\n",
       "        vertical-align: middle;\n",
       "    }\n",
       "\n",
       "    .dataframe tbody tr th {\n",
       "        vertical-align: top;\n",
       "    }\n",
       "\n",
       "    .dataframe thead th {\n",
       "        text-align: right;\n",
       "    }\n",
       "</style>\n",
       "<table border=\"1\" class=\"dataframe\">\n",
       "  <thead>\n",
       "    <tr style=\"text-align: right;\">\n",
       "      <th></th>\n",
       "      <th>Unnamed: 0</th>\n",
       "      <th>month</th>\n",
       "    </tr>\n",
       "  </thead>\n",
       "  <tbody>\n",
       "    <tr>\n",
       "      <th>0</th>\n",
       "      <td>0</td>\n",
       "      <td>1988-08-04</td>\n",
       "    </tr>\n",
       "    <tr>\n",
       "      <th>1</th>\n",
       "      <td>1</td>\n",
       "      <td>1990-10-12</td>\n",
       "    </tr>\n",
       "    <tr>\n",
       "      <th>2</th>\n",
       "      <td>2</td>\n",
       "      <td>2003-04-20</td>\n",
       "    </tr>\n",
       "    <tr>\n",
       "      <th>3</th>\n",
       "      <td>3</td>\n",
       "      <td>1971-09-01</td>\n",
       "    </tr>\n",
       "    <tr>\n",
       "      <th>4</th>\n",
       "      <td>4</td>\n",
       "      <td>1988-08-23</td>\n",
       "    </tr>\n",
       "  </tbody>\n",
       "</table>\n",
       "</div>"
      ],
      "text/plain": [
       "   Unnamed: 0      month\n",
       "0           0 1988-08-04\n",
       "1           1 1990-10-12\n",
       "2           2 2003-04-20\n",
       "3           3 1971-09-01\n",
       "4           4 1988-08-23"
      ]
     },
     "execution_count": 2,
     "metadata": {},
     "output_type": "execute_result"
    }
   ],
   "source": [
    "florida_hurricane_dates = pd.read_csv('D:/Development/DataCamp/Data Science with Python - Career Track/13. Working with Dates and Times in Python/datasets/florida_hurricane_dates.csv')\n",
    "\n",
    "florida_hurricane_dates['month'] = florida_hurricane_dates['0']\n",
    "florida_hurricane_dates = florida_hurricane_dates.drop('0', axis=1)\n",
    "florida_hurricane_dates['month'] = pd.to_datetime(florida_hurricane_dates['month'])\n",
    "\n",
    "florida_hurricane_dates.head()"
   ]
  },
  {
   "cell_type": "code",
   "execution_count": 3,
   "id": "6bdb9710-9ea8-4e5c-b32d-ed8c5341ec24",
   "metadata": {},
   "outputs": [
    {
     "name": "stdout",
     "output_type": "stream",
     "text": [
      "<class 'pandas.core.frame.DataFrame'>\n",
      "RangeIndex: 235 entries, 0 to 234\n",
      "Data columns (total 2 columns):\n",
      " #   Column      Non-Null Count  Dtype         \n",
      "---  ------      --------------  -----         \n",
      " 0   Unnamed: 0  235 non-null    int64         \n",
      " 1   month       235 non-null    datetime64[ns]\n",
      "dtypes: datetime64[ns](1), int64(1)\n",
      "memory usage: 3.8 KB\n"
     ]
    }
   ],
   "source": [
    "florida_hurricane_dates.info()"
   ]
  },
  {
   "cell_type": "markdown",
   "id": "a824d362-db12-409e-b145-b250d6ff145d",
   "metadata": {},
   "source": [
    "### 1. Which Day of the Week?\n",
    "\n",
    " Hurricane Andrew, which hit Florida on August 24, 1992, was one of the costliest and deadliest hurricanes in US history. Which day of the week did it make landfall?\n",
    "\n",
    " Let's walk through all of the steps to figure this out.\n",
    " \n",
    " Instructions:\n",
    " 1. Import date from datetime.\n",
    " 2. Create a date object for August 24, 1992.\n",
    " 3. Now ask Python what day of the week Hurricane Andrew hit (remember that Python counts days of the week starting from Monday as 0, Tuesday as 1, and so on)."
   ]
  },
  {
   "cell_type": "code",
   "execution_count": 4,
   "id": "711ddc0c-e2b3-48c0-a808-712047b468cd",
   "metadata": {},
   "outputs": [],
   "source": [
    "# 1.\n",
    "# Import date from datetime\n",
    "from datetime import date"
   ]
  },
  {
   "cell_type": "code",
   "execution_count": 5,
   "id": "62bbefc9-7c1d-40b3-afd9-036bf916e66a",
   "metadata": {},
   "outputs": [],
   "source": [
    "# 2. \n",
    "# Import date from datetime\n",
    "from datetime import date\n",
    "\n",
    "# Create a date object\n",
    "hurricane_andrew = date(1992, 8, 24)"
   ]
  },
  {
   "cell_type": "code",
   "execution_count": 6,
   "id": "018c75b8-4beb-4f3e-a3f3-3849e1e4994d",
   "metadata": {},
   "outputs": [
    {
     "name": "stdout",
     "output_type": "stream",
     "text": [
      "0\n"
     ]
    }
   ],
   "source": [
    "# 3. \n",
    "# Import date from datetime\n",
    "from datetime import date\n",
    "\n",
    "# Create a date object\n",
    "hurricane_andrew = date(1992, 8, 24)\n",
    "\n",
    "# Which day of the week is the date?\n",
    "print(hurricane_andrew.weekday())"
   ]
  },
  {
   "cell_type": "markdown",
   "id": "6c8dda51-98b4-4a79-a73e-39312ddc26aa",
   "metadata": {},
   "source": [
    "### 2. How Many Hurricanes Come Early?\n",
    "\n",
    " In this chapter, you will work with a list of the hurricanes that made landfall in Florida from 1950 to 2017. There were 235 in total. Check out the variable florida_hurricane_dates, which has all of these dates.\n",
    "\n",
    " Atlantic hurricane season officially begins on June 1. How many hurricanes since 1950 have made landfall in Florida before the official start of hurricane season?\n",
    " \n",
    " Instructions:\n",
    " - Complete the for loop to iterate through florida_hurricane_dates.\n",
    " - Complete the if statement to increment the counter (early_hurricanes) if the hurricane made landfall before June."
   ]
  },
  {
   "cell_type": "code",
   "execution_count": null,
   "id": "81996ed0-96e2-4b34-882a-f91862cb12f8",
   "metadata": {},
   "outputs": [],
   "source": [
    "# Counter for how many before June 1\n",
    "early_hurricanes = 0\n",
    "\n",
    "# We loop over the dates\n",
    "for hurricane in florida_hurricane_dates:\n",
    "  # Check if the month is before June (month number 6)\n",
    "  if hurricane.month < 6:\n",
    "    early_hurricanes = early_hurricanes + 1\n",
    "    \n",
    "print(early_hurricanes)"
   ]
  },
  {
   "cell_type": "markdown",
   "id": "66d6df11-11dc-4ce4-beae-99e2d906b5e0",
   "metadata": {},
   "source": [
    "### 3. Substracting Dates\n",
    "\n",
    " Python date objects let us treat calendar dates as something similar to numbers: we can compare them, sort them, add, and even subtract them. This lets us do math with dates in a way that would be a pain to do by hand.\n",
    "\n",
    " The 2007 Florida hurricane season was one of the busiest on record, with 8 hurricanes in one year. The first one hit on May 9th, 2007, and the last one hit on December 13th, 2007. How many days elapsed between the first and last hurricane in 2007?\n",
    " \n",
    " Instructions:\n",
    " - Import date from datetime.\n",
    " - Create a date object for May 9th, 2007, and assign it to the start variable.\n",
    " - Create a date object for December 13th, 2007, and assign it to the end variable.\n",
    " - Subtract start from end, to print the number of days in the resulting timedelta object."
   ]
  },
  {
   "cell_type": "code",
   "execution_count": 7,
   "id": "870fac87-76b4-4b04-ab06-de64d5b4afa0",
   "metadata": {},
   "outputs": [
    {
     "name": "stdout",
     "output_type": "stream",
     "text": [
      "218\n"
     ]
    }
   ],
   "source": [
    "# Import date\n",
    "from datetime import date\n",
    "\n",
    "# Create a date object for May 9th, 2007\n",
    "start = date(2007, 5, 9)\n",
    "\n",
    "# Create a date object for December 13th, 2007\n",
    "end = date(2007, 12, 13)\n",
    "\n",
    "# Subtract the two dates and print the number of days\n",
    "print((end - start).days)"
   ]
  },
  {
   "cell_type": "markdown",
   "id": "0ba098e4-ab0f-4b95-a709-43c72578d7ee",
   "metadata": {},
   "source": [
    "### 4. Counting Events per Calendars Month\n",
    "\n",
    " Hurricanes can make landfall in Florida throughout the year. As we've already discussed, some months are more hurricane-prone than others.\n",
    "\n",
    " Using florida_hurricane_dates, let's see how hurricanes in Florida were distributed across months throughout the year.\n",
    "\n",
    " We've created a dictionary called hurricanes_each_month to hold your counts and set the initial counts to zero. You will loop over the list of hurricanes, incrementing the correct month in hurricanes_each_month as you go, and then print the result.\n",
    " \n",
    " Instructions:\n",
    " - Within the for loop:\n",
    " - Assign month to be the month of that hurricane.\n",
    " - Increment hurricanes_each_month for the relevant month by 1."
   ]
  },
  {
   "cell_type": "code",
   "execution_count": null,
   "id": "d694638d-edb4-4795-a31c-c06e66be6b33",
   "metadata": {},
   "outputs": [],
   "source": [
    "# A dictionary to count hurricanes per calendar month\n",
    "hurricanes_each_month = {1: 0, 2: 0, 3: 0, 4: 0, 5: 0, 6:0,\n",
    "\t\t  \t\t\t\t 7: 0, 8:0, 9:0, 10:0, 11:0, 12:0}\n",
    "\n",
    "# Loop over all hurricanes\n",
    "for hurricane in florida_hurricane_dates:\n",
    "  # Pull out the month\n",
    "  month = hurricane.month\n",
    "  # Increment the count in your dictionary by one\n",
    "  hurricanes_each_month[month] += 1\n",
    "  \n",
    "print(hurricanes_each_month)"
   ]
  },
  {
   "cell_type": "markdown",
   "id": "f7132b77-7d71-4570-a9ed-a110751bac4d",
   "metadata": {},
   "source": [
    "### 5. Putting a List of Dates in Order\n",
    "\n",
    " Much like numbers and strings, date objects in Python can be put in order. Earlier dates come before later ones, and so we can sort a list of date objects from earliest to latest.\n",
    "\n",
    " What if our Florida hurricane dates had been scrambled? We've gone ahead and shuffled them so they're in random order and saved the results as dates_scrambled. Your job is to put them back in chronological order, and then print the first and last dates from this sorted list.\n",
    " \n",
    " Instructions:\n",
    " 1. Print the first and last dates in dates_scrambled.\n",
    " 2. Sort dates_scrambled using Python's built-in sorted() method, and save the results to dates_ordered. Print the first and last dates in dates_ordered."
   ]
  },
  {
   "cell_type": "code",
   "execution_count": null,
   "id": "378bdf41-bc5a-4287-b549-04cf137acb10",
   "metadata": {},
   "outputs": [],
   "source": [
    "# 1. \n",
    "# Print the first and last scrambled dates\n",
    "print(dates_scrambled[0])\n",
    "print(dates_scrambled[-1])"
   ]
  },
  {
   "cell_type": "code",
   "execution_count": null,
   "id": "200da1a2-af70-413a-b707-3c5c03fb52d0",
   "metadata": {},
   "outputs": [],
   "source": [
    "# 2. \n",
    "# Print the first and last scrambled dates\n",
    "print(dates_scrambled[0])\n",
    "print(dates_scrambled[-1])\n",
    "\n",
    "# Put the dates in order\n",
    "dates_ordered = sorted(dates_scrambled)\n",
    "\n",
    "# Print the first and last ordered dates\n",
    "print(dates_ordered[0])\n",
    "print(dates_ordered[-1])"
   ]
  },
  {
   "cell_type": "markdown",
   "id": "61a2dbba-2478-4918-9a75-9fdd7d533670",
   "metadata": {},
   "source": [
    "### 6. Printing Dates in a Friendly Format\n",
    "\n",
    " Because people may want to see dates in many different formats, Python comes with very flexible functions for turning date objects into strings.\n",
    "\n",
    " Let's see what event was recorded first in the Florida hurricane data set. In this exercise, you will format the earliest date in the florida_hurricane_dates list in two ways so you can decide which one you want to use: either the ISO standard or the typical US style.\n",
    " \n",
    " Instructions:\n",
    " - Assign the earliest date in florida_hurricane_dates to first_date.\n",
    " - Print first_date in the ISO standard. For example, December 1st, 2000 would be \"2000-12-01\".\n",
    " - Print first_date in the US style, using .strftime(). For example, December 1st, 2000 would be \"12/1/2000\"."
   ]
  },
  {
   "cell_type": "code",
   "execution_count": null,
   "id": "9e445306-090b-4b0f-952a-8ba13b10cd41",
   "metadata": {},
   "outputs": [],
   "source": [
    "# Assign the earliest date to first_date\n",
    "first_date = min(florida_hurricane_dates)\n",
    "\n",
    "# Convert to ISO and US formats\n",
    "iso = \"Our earliest hurricane date: \" + first_date.isoformat()\n",
    "us = \"Our earliest hurricane date: \" + first_date.strftime(\"%m/%d/%Y\")\n",
    "\n",
    "print(\"ISO: \" + iso)\n",
    "print(\"US: \" + us)"
   ]
  },
  {
   "cell_type": "markdown",
   "id": "7fda74aa-3cfe-447c-ba56-e7ed5db17a40",
   "metadata": {},
   "source": [
    "### 7. Representing Dates in Different Ways\n",
    "\n",
    " date objects in Python have a great number of ways they can be printed out as strings. In some cases, you want to know the date in a clear, language-agnostic format. In other cases, you want something which can fit into a paragraph and flow naturally.\n",
    "\n",
    " Let's try printing out the same date, August 26, 1992 (the day that Hurricane Andrew made landfall in Florida), in a number of different ways, to practice using the .strftime() method.\n",
    "\n",
    " A date object called andrew has already been created.\n",
    " \n",
    " Instructions:\n",
    " 1. Print andrew in the format 'YYYY-MM'.\n",
    " 2. Print andrew in the format 'MONTH (YYYY)', using %B for the month's full name, which in this case will be August.\n",
    " 3. Print andrew in the format 'YYYY-DDD' (where DDD is the day of the year) using %j."
   ]
  },
  {
   "cell_type": "code",
   "execution_count": 8,
   "id": "a5cc748f-dd0d-4f83-9539-0ab0094afeef",
   "metadata": {},
   "outputs": [
    {
     "name": "stdout",
     "output_type": "stream",
     "text": [
      "1992-08\n"
     ]
    }
   ],
   "source": [
    "# 1.\n",
    "# Import date\n",
    "from datetime import date\n",
    "\n",
    "# Create a date object\n",
    "andrew = date(1992, 8, 26)\n",
    "\n",
    "# Print the date in the format 'YYYY-MM'\n",
    "print(andrew.strftime('%Y-%m'))"
   ]
  },
  {
   "cell_type": "code",
   "execution_count": 9,
   "id": "e05c0ca9-4637-460f-be07-30fac00ce634",
   "metadata": {},
   "outputs": [
    {
     "name": "stdout",
     "output_type": "stream",
     "text": [
      "August (1992)\n"
     ]
    }
   ],
   "source": [
    "# 2.\n",
    "# Import date\n",
    "from datetime import date\n",
    "\n",
    "# Create a date object\n",
    "andrew = date(1992, 8, 26)\n",
    "\n",
    "# Print the date in the format 'MONTH (YYYY)'\n",
    "print(andrew.strftime('%B (%Y)'))"
   ]
  },
  {
   "cell_type": "code",
   "execution_count": 10,
   "id": "8da00691-6fad-4b03-b80a-835d78a1af64",
   "metadata": {},
   "outputs": [
    {
     "name": "stdout",
     "output_type": "stream",
     "text": [
      "1992-239\n"
     ]
    }
   ],
   "source": [
    "# 3.\n",
    "# Import date\n",
    "from datetime import date\n",
    "\n",
    "# Create a date object\n",
    "andrew = date(1992, 8, 26)\n",
    "\n",
    "# Print the date in the format 'YYYY-DDD'\n",
    "print(andrew.strftime('%Y-%j'))"
   ]
  }
 ],
 "metadata": {
  "kernelspec": {
   "display_name": "Python 3",
   "language": "python",
   "name": "python3"
  },
  "language_info": {
   "codemirror_mode": {
    "name": "ipython",
    "version": 3
   },
   "file_extension": ".py",
   "mimetype": "text/x-python",
   "name": "python",
   "nbconvert_exporter": "python",
   "pygments_lexer": "ipython3",
   "version": "3.8.8"
  }
 },
 "nbformat": 4,
 "nbformat_minor": 5
}
