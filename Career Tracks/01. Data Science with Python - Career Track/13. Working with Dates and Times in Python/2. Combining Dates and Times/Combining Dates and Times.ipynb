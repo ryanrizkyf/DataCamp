{
 "cells": [
  {
   "cell_type": "markdown",
   "id": "d79da2f2-007c-4a88-9195-fde8ac6584a8",
   "metadata": {},
   "source": [
    "# Combining Dates and Times\n",
    "Bike sharing programs have swept through cities around the world -- and luckily for us, every trip gets recorded! Working with all of the comings and goings of one bike in Washington, D.C., you'll practice working with dates and times together. You'll parse dates and times from text, analyze peak trip times, calculate ride durations, and more."
   ]
  },
  {
   "cell_type": "code",
   "execution_count": 1,
   "id": "4e06d6cd-b362-472b-90f9-e3ac3ac6c3df",
   "metadata": {},
   "outputs": [],
   "source": [
    "import pandas as pd\n",
    "\n",
    "capital_onebike = pd.read_csv('D:/Development/DataCamp/Data Science with Python - Career Track/13. Working with Dates and Times in Python/datasets/capital-onebike.csv')"
   ]
  },
  {
   "cell_type": "code",
   "execution_count": 2,
   "id": "e5d629e3-b13f-43ba-bdf1-f49b849df36f",
   "metadata": {},
   "outputs": [
    {
     "data": {
      "text/html": [
       "<div>\n",
       "<style scoped>\n",
       "    .dataframe tbody tr th:only-of-type {\n",
       "        vertical-align: middle;\n",
       "    }\n",
       "\n",
       "    .dataframe tbody tr th {\n",
       "        vertical-align: top;\n",
       "    }\n",
       "\n",
       "    .dataframe thead th {\n",
       "        text-align: right;\n",
       "    }\n",
       "</style>\n",
       "<table border=\"1\" class=\"dataframe\">\n",
       "  <thead>\n",
       "    <tr style=\"text-align: right;\">\n",
       "      <th></th>\n",
       "      <th>Start date</th>\n",
       "      <th>End date</th>\n",
       "      <th>Start station number</th>\n",
       "      <th>Start station</th>\n",
       "      <th>End station number</th>\n",
       "      <th>End station</th>\n",
       "      <th>Bike number</th>\n",
       "      <th>Member type</th>\n",
       "    </tr>\n",
       "  </thead>\n",
       "  <tbody>\n",
       "    <tr>\n",
       "      <th>0</th>\n",
       "      <td>2017-10-01 15:23:25</td>\n",
       "      <td>2017-10-01 15:26:26</td>\n",
       "      <td>31038</td>\n",
       "      <td>Glebe Rd &amp; 11th St N</td>\n",
       "      <td>31036</td>\n",
       "      <td>George Mason Dr &amp; Wilson Blvd</td>\n",
       "      <td>W20529</td>\n",
       "      <td>Member</td>\n",
       "    </tr>\n",
       "    <tr>\n",
       "      <th>1</th>\n",
       "      <td>2017-10-01 15:42:57</td>\n",
       "      <td>2017-10-01 17:49:59</td>\n",
       "      <td>31036</td>\n",
       "      <td>George Mason Dr &amp; Wilson Blvd</td>\n",
       "      <td>31036</td>\n",
       "      <td>George Mason Dr &amp; Wilson Blvd</td>\n",
       "      <td>W20529</td>\n",
       "      <td>Casual</td>\n",
       "    </tr>\n",
       "    <tr>\n",
       "      <th>2</th>\n",
       "      <td>2017-10-02 06:37:10</td>\n",
       "      <td>2017-10-02 06:42:53</td>\n",
       "      <td>31036</td>\n",
       "      <td>George Mason Dr &amp; Wilson Blvd</td>\n",
       "      <td>31037</td>\n",
       "      <td>Ballston Metro / N Stuart &amp; 9th St N</td>\n",
       "      <td>W20529</td>\n",
       "      <td>Member</td>\n",
       "    </tr>\n",
       "    <tr>\n",
       "      <th>3</th>\n",
       "      <td>2017-10-02 08:56:45</td>\n",
       "      <td>2017-10-02 09:18:03</td>\n",
       "      <td>31037</td>\n",
       "      <td>Ballston Metro / N Stuart &amp; 9th St N</td>\n",
       "      <td>31295</td>\n",
       "      <td>Potomac &amp; M St NW</td>\n",
       "      <td>W20529</td>\n",
       "      <td>Member</td>\n",
       "    </tr>\n",
       "    <tr>\n",
       "      <th>4</th>\n",
       "      <td>2017-10-02 18:23:48</td>\n",
       "      <td>2017-10-02 18:45:05</td>\n",
       "      <td>31295</td>\n",
       "      <td>Potomac &amp; M St NW</td>\n",
       "      <td>31230</td>\n",
       "      <td>Metro Center / 12th &amp; G St NW</td>\n",
       "      <td>W20529</td>\n",
       "      <td>Member</td>\n",
       "    </tr>\n",
       "  </tbody>\n",
       "</table>\n",
       "</div>"
      ],
      "text/plain": [
       "            Start date             End date  Start station number  \\\n",
       "0  2017-10-01 15:23:25  2017-10-01 15:26:26                 31038   \n",
       "1  2017-10-01 15:42:57  2017-10-01 17:49:59                 31036   \n",
       "2  2017-10-02 06:37:10  2017-10-02 06:42:53                 31036   \n",
       "3  2017-10-02 08:56:45  2017-10-02 09:18:03                 31037   \n",
       "4  2017-10-02 18:23:48  2017-10-02 18:45:05                 31295   \n",
       "\n",
       "                          Start station  End station number  \\\n",
       "0                  Glebe Rd & 11th St N               31036   \n",
       "1         George Mason Dr & Wilson Blvd               31036   \n",
       "2         George Mason Dr & Wilson Blvd               31037   \n",
       "3  Ballston Metro / N Stuart & 9th St N               31295   \n",
       "4                     Potomac & M St NW               31230   \n",
       "\n",
       "                            End station Bike number Member type  \n",
       "0         George Mason Dr & Wilson Blvd      W20529      Member  \n",
       "1         George Mason Dr & Wilson Blvd      W20529      Casual  \n",
       "2  Ballston Metro / N Stuart & 9th St N      W20529      Member  \n",
       "3                     Potomac & M St NW      W20529      Member  \n",
       "4         Metro Center / 12th & G St NW      W20529      Member  "
      ]
     },
     "execution_count": 2,
     "metadata": {},
     "output_type": "execute_result"
    }
   ],
   "source": [
    "capital_onebike.head()"
   ]
  },
  {
   "cell_type": "markdown",
   "id": "2bacfafc-4d01-4138-b5c5-d0db31d8131e",
   "metadata": {},
   "source": [
    "### 1. Creating Datetimes by Hand\n",
    "\n",
    " Often you create datetime objects based on outside data. Sometimes though, you want to create a datetime object from scratch.\n",
    "\n",
    " You're going to create a few different datetime objects from scratch to get the hang of that process. These come from the bikeshare data set that you'll use throughout the rest of the chapter.\n",
    " \n",
    " Instructions:\n",
    " 1. Import the datetime class. Create a datetime for October 1, 2017 at `15:26:26`. Print the results in ISO format.\n",
    " 2. Import the datetime class. Create a datetime for December 31, 2017 at `15:19:13`. Print the results in ISO format.\n",
    " 3. Create a new datetime by replacing the year in dt with 1917 (instead of 2017)"
   ]
  },
  {
   "cell_type": "code",
   "execution_count": 3,
   "id": "550397d5-fd46-4a13-99f5-117496d0fd93",
   "metadata": {},
   "outputs": [
    {
     "name": "stdout",
     "output_type": "stream",
     "text": [
      "2017-10-01T15:26:26\n"
     ]
    }
   ],
   "source": [
    "# 1.\n",
    "# Import datetime\n",
    "from datetime import datetime\n",
    "\n",
    "# Create a datetime object\n",
    "dt = datetime(2017, 10, 1, 15, 26, 26)\n",
    "\n",
    "# Print the results in ISO 8601 format\n",
    "print(dt.isoformat())"
   ]
  },
  {
   "cell_type": "code",
   "execution_count": 4,
   "id": "7f35a51e-78fa-4611-9a21-27562658a8d1",
   "metadata": {},
   "outputs": [
    {
     "name": "stdout",
     "output_type": "stream",
     "text": [
      "2017-12-31T15:19:13\n"
     ]
    }
   ],
   "source": [
    "# 2.\n",
    "# Import datetime\n",
    "from datetime import datetime\n",
    "\n",
    "# Create a datetime object\n",
    "dt = datetime(2017, 12, 31, 15, 19, 13)\n",
    "\n",
    "# Print the results in ISO 8601 format\n",
    "print(dt.isoformat())"
   ]
  },
  {
   "cell_type": "code",
   "execution_count": 5,
   "id": "250d73fd-c942-486e-a377-a3021d826a88",
   "metadata": {},
   "outputs": [
    {
     "name": "stdout",
     "output_type": "stream",
     "text": [
      "1917-12-31 15:19:13\n"
     ]
    }
   ],
   "source": [
    "# 3.\n",
    "# Import datetime\n",
    "from datetime import datetime\n",
    "\n",
    "# Create a datetime object\n",
    "dt = datetime(2017, 12, 31, 15, 19, 13)\n",
    "\n",
    "# Replace the year with 1917\n",
    "dt_old = dt.replace(year=1917)\n",
    "\n",
    "# Print the results in ISO 8601 format\n",
    "print(dt_old)"
   ]
  },
  {
   "cell_type": "markdown",
   "id": "26d5042c-1c23-461e-92aa-ce28000f25f1",
   "metadata": {},
   "source": [
    "### 2. Counting Events Before and After Noon\n",
    "\n",
    " In this chapter, you will be working with a list of all bike trips for one Capital Bikeshare bike, W20529, from October 1, 2017 to December 31, 2017. This list has been loaded as onebike_datetimes.\n",
    "\n",
    " Each element of the list is a dictionary with two entries: start is a datetime object corresponding to the start of a trip (when a bike is removed from the dock) and end is a datetime object corresponding to the end of a trip (when a bike is put back into a dock).\n",
    "\n",
    " You can use this data set to understand better how this bike was used. Did more trips start before noon or after noon?\n",
    " \n",
    " Instructions:\n",
    " - Within the for loop, complete the if statement to check if the trip started before noon.\n",
    " - Within the for loop, increment trip_counts['AM'] if the trip started before noon, and trip_counts['PM'] if it started after noon."
   ]
  },
  {
   "cell_type": "code",
   "execution_count": null,
   "id": "d45563cf-514d-47f0-9c9d-b73ca2ea6e53",
   "metadata": {},
   "outputs": [],
   "source": [
    "# Create dictionary to hold results\n",
    "trip_counts = {'AM': 0, 'PM': 0}\n",
    "  \n",
    "# Loop over all trips\n",
    "for trip in onebike_datetimes:\n",
    "  # Check to see if the trip starts before noon\n",
    "  if trip['start'].hour < 12:\n",
    "    # Increment the counter for before noon\n",
    "    trip_counts['AM'] += 1\n",
    "  else:\n",
    "    # Increment the counter for after noon\n",
    "    trip_counts['PM'] += 1\n",
    "  \n",
    "print(trip_counts)"
   ]
  },
  {
   "cell_type": "markdown",
   "id": "857a4c58-d49a-4208-b5f8-5d0a31360dce",
   "metadata": {},
   "source": [
    "### 3. Turning Strings into Datetimes\n",
    "\n",
    " When you download data from the Internet, dates and times usually come to you as strings. Often the first step is to turn those strings into datetime objects.\n",
    "\n",
    " In this exercise, you will practice this transformation.\n",
    "\n",
    " Reference:\t\n",
    " - %Y -> 4 digit year (0000-9999)\n",
    " - %m -> 2 digit month (1-12)\n",
    " - %d -> 2 digit day (1-31)\n",
    " - %H -> 2 digit hour (0-23)\n",
    " - %M -> 2 digit minute (0-59)\n",
    " - %S -> 2 digit second (0-59)\n",
    " \n",
    " Instructions:\n",
    " 1. Determine the format needed to convert s to datetime and assign it to fmt. Convert the string s to datetime using fmt.\n",
    " 2. Determine the format needed to convert s to datetime and assign it to fmt. Convert the string s to datetime using fmt.\n",
    " 3. Determine the format needed to convert s to datetime and assign it to fmt. Convert the string s to datetime using fmt."
   ]
  },
  {
   "cell_type": "code",
   "execution_count": 6,
   "id": "e0baa119-87d1-4d66-a93c-effe7d1f5b62",
   "metadata": {},
   "outputs": [
    {
     "name": "stdout",
     "output_type": "stream",
     "text": [
      "2017-02-03 00:00:01\n"
     ]
    }
   ],
   "source": [
    "# 1.\n",
    "# Import the datetime class\n",
    "from datetime import datetime\n",
    "\n",
    "# Starting string, in YYYY-MM-DD HH:MM:SS format\n",
    "s = '2017-02-03 00:00:01'\n",
    "\n",
    "# Write a format string to parse s\n",
    "fmt = '%Y-%m-%d %H:%M:%S'\n",
    "\n",
    "# Create a datetime object d\n",
    "d = datetime.strptime(s, fmt)\n",
    "\n",
    "# Print d\n",
    "print(d)"
   ]
  },
  {
   "cell_type": "code",
   "execution_count": 7,
   "id": "d42691bb-46ff-41f4-8127-9427543af903",
   "metadata": {},
   "outputs": [
    {
     "name": "stdout",
     "output_type": "stream",
     "text": [
      "2030-10-15 00:00:00\n"
     ]
    }
   ],
   "source": [
    "# 2.\n",
    "# Import the datetime class\n",
    "from datetime import datetime\n",
    "\n",
    "# Starting string, in YYYY-MM-DD format\n",
    "s = '2030-10-15'\n",
    "\n",
    "# Write a format string to parse s\n",
    "fmt = '%Y-%m-%d'\n",
    "\n",
    "# Create a datetime object d\n",
    "d = datetime.strptime(s, fmt)\n",
    "\n",
    "# Print d\n",
    "print(d)"
   ]
  },
  {
   "cell_type": "code",
   "execution_count": 8,
   "id": "afb08aad-4a0d-426a-b1c4-22a57efa6a04",
   "metadata": {},
   "outputs": [
    {
     "name": "stdout",
     "output_type": "stream",
     "text": [
      "1986-12-15 08:00:00\n"
     ]
    }
   ],
   "source": [
    "# 3.\n",
    "# Import the datetime class\n",
    "from datetime import datetime\n",
    "\n",
    "# Starting string, in MM/DD/YYYY HH:MM:SS format\n",
    "s = '12/15/1986 08:00:00'\n",
    "\n",
    "# Write a format string to parse s\n",
    "fmt = '%m/%d/%Y %H:%M:%S'\n",
    "\n",
    "# Create a datetime object d\n",
    "d = datetime.strptime(s, fmt)\n",
    "\n",
    "# Print d\n",
    "print(d)"
   ]
  },
  {
   "cell_type": "markdown",
   "id": "156c2701-3a39-480b-ae15-d388a3961c4e",
   "metadata": {},
   "source": [
    "### 4. Parsing Pairs of Strings as Datetimes\n",
    "\n",
    " Up until now, you've been working with a pre-processed list of datetimes for W20529's trips. For this exercise, you're going to go one step back in the data cleaning pipeline and work with the strings that the data started as.\n",
    "\n",
    " Explore onebike_datetime_strings in the IPython shell to determine the correct format. datetime has already been loaded for you.\n",
    "\n",
    " Reference:\n",
    " - %Y -> 4 digit year (0000-9999)\n",
    " - %m -> 2 digit month (1-12)\n",
    " - %d -> 2 digit day (1-31)\n",
    " - %H -> 2 digit hour (0-23)\n",
    " - %M -> 2 digit minute (0-59)\n",
    " - %S -> 2 digit second (0-59)\n",
    " \n",
    " Instructions:\n",
    " - Outside the for loop, fill out the fmt string with the correct parsing format for the data.\n",
    " - Within the for loop, parse the start and end strings into the trip dictionary with start and end keys and datetime objects for values."
   ]
  },
  {
   "cell_type": "code",
   "execution_count": 9,
   "id": "ca2371ab-1edf-44e1-8d72-25d97cda03fc",
   "metadata": {},
   "outputs": [],
   "source": [
    "onebike_datetime_strings = [('2017-12-25 13:46:44', '2017-12-25 14:20:50'), \n",
    "                            ('2017-12-26 10:40:16', '2017-12-26 10:53:45'), \n",
    "                            ('2017-12-27 16:56:12', '2017-12-27 17:17:39'), \n",
    "                            ('2017-12-29 06:02:34', '2017-12-29 06:12:30'), \n",
    "                            ('2017-12-29 12:21:03', '2017-12-29 12:46:16'), \n",
    "                            ('2017-12-29 14:32:55', '2017-12-29 14:43:46'), \n",
    "                            ('2017-12-29 15:08:26', '2017-12-29 15:18:51'), \n",
    "                            ('2017-12-29 20:33:34', '2017-12-29 20:38:13'), \n",
    "                            ('2017-12-30 13:51:03', '2017-12-30 13:54:33'), \n",
    "                            ('2017-12-30 15:09:03', '2017-12-30 15:19:13')]"
   ]
  },
  {
   "cell_type": "code",
   "execution_count": 10,
   "id": "cc2bd0de-4c25-4809-997d-e464bbd3c904",
   "metadata": {},
   "outputs": [],
   "source": [
    "# Write down the format string\n",
    "fmt = \"%Y-%m-%d %H:%M:%S\"\n",
    "\n",
    "# Initialize a list for holding the pairs of datetime objects\n",
    "onebike_datetimes = []\n",
    "\n",
    "# Loop over all trips\n",
    "for (start, end) in onebike_datetime_strings:\n",
    "  trip = {'start': datetime.strptime(start, fmt),\n",
    "          'end': datetime.strptime(end, fmt)}\n",
    "  \n",
    "  # Append the trip\n",
    "  onebike_datetimes.append(trip)"
   ]
  },
  {
   "cell_type": "markdown",
   "id": "73e16df0-4e49-405d-a47e-a1665096c0cc",
   "metadata": {},
   "source": [
    "### 5. Recreating ISO Format with strftime()\n",
    "\n",
    " In the last chapter, you used strftime() to create strings from date objects. Now that you know about datetime objects, let's practice doing something similar.\n",
    "\n",
    " Re-create the .isoformat() method, using .strftime(), and print the first trip start in our data set.\n",
    "\n",
    " Reference:\n",
    " - %Y -> 4 digit year (0000-9999)\n",
    " - %m -> 2 digit month (1-12)\n",
    " - %d -> 2 digit day (1-31)\n",
    " - %H -> 2 digit hour (0-23)\n",
    " - %M -> 2 digit minute (0-59)\n",
    " - %S -> 2 digit second (0-59)\n",
    " \n",
    " Instructions:\n",
    " - Complete fmt to match the format of ISO 8601.\n",
    " - Print first_start with both .isoformat() and .strftime(); they should match."
   ]
  },
  {
   "cell_type": "code",
   "execution_count": 11,
   "id": "599424bd-b2af-4a25-b335-8fcd16e02ec3",
   "metadata": {},
   "outputs": [
    {
     "name": "stdout",
     "output_type": "stream",
     "text": [
      "2017-12-25T13:46:44\n",
      "2017-12-25T13:46:44\n"
     ]
    }
   ],
   "source": [
    "# Import datetime\n",
    "from datetime import datetime\n",
    "\n",
    "# Pull out the start of the first trip\n",
    "first_start = onebike_datetimes[0]['start']\n",
    "\n",
    "# Format to feed to strftime()\n",
    "fmt = \"%Y-%m-%dT%H:%M:%S\"\n",
    "\n",
    "# Print out date with .isoformat(), then with .strftime() to compare\n",
    "print(first_start.isoformat())\n",
    "print(first_start.strftime(fmt))"
   ]
  },
  {
   "cell_type": "markdown",
   "id": "b98b4974-e92f-4dab-bfea-27ed53309c1b",
   "metadata": {},
   "source": [
    "### 6. Unix Timestamps\n",
    "\n",
    " Datetimes are sometimes stored as Unix timestamps: the number of seconds since January 1, 1970. This is especially common with computer infrastructure, like the log files that websites keep when they get visitors.\n",
    " \n",
    " Instructions:\n",
    " - Complete the for loop to loop over timestamps.\n",
    " - Complete the code to turn each timestamp ts into a datetime."
   ]
  },
  {
   "cell_type": "code",
   "execution_count": 12,
   "id": "0ec5e947-d9ee-47b7-820a-7aea13635917",
   "metadata": {},
   "outputs": [
    {
     "name": "stdout",
     "output_type": "stream",
     "text": [
      "[datetime.datetime(2017, 12, 31, 3, 19, 13), datetime.datetime(2017, 12, 31, 3, 9, 3)]\n"
     ]
    }
   ],
   "source": [
    "# Import datetime\n",
    "from datetime import datetime\n",
    "\n",
    "# Starting timestamps\n",
    "timestamps = [1514665153, 1514664543]\n",
    "\n",
    "# Datetime objects\n",
    "dts = []\n",
    "\n",
    "# Loop\n",
    "for ts in timestamps:\n",
    "  dts.append(datetime.fromtimestamp(ts))\n",
    "  \n",
    "# Print results\n",
    "print(dts)"
   ]
  },
  {
   "cell_type": "markdown",
   "id": "f261e527-d9f5-42d2-91f4-f19da94c3ebd",
   "metadata": {},
   "source": [
    "### 7. Turning Pairs of Datetimes into Durations\n",
    "\n",
    " When working with timestamps, we often want to know how much time has elapsed between events. Thankfully, we can use datetime arithmetic to ask Python to do the heavy lifting for us so we don't need to worry about day, month, or year boundaries. Let's calculate the number of seconds that the bike was out of the dock for each trip.\n",
    "\n",
    " Continuing our work from a previous coding exercise, the bike trip data has been loaded as the list onebike_datetimes. Each element of the list consists of two datetime objects, corresponding to the start and end of a trip, respectively.\n",
    " \n",
    " Instructions:\n",
    " - Within the loop:\n",
    "   - Use arithmetic on the start and end elements to find the length of the trip\n",
    "   - Save the results to trip_duration.\n",
    "   - Calculate trip_length_seconds from trip_duration."
   ]
  },
  {
   "cell_type": "code",
   "execution_count": 13,
   "id": "8c39d6da-1933-4350-9068-b706876ca5c8",
   "metadata": {},
   "outputs": [],
   "source": [
    "# Initialize a list for all the trip durations\n",
    "onebike_durations = []\n",
    "\n",
    "for trip in onebike_datetimes:\n",
    "  # Create a timedelta object corresponding to the length of the trip\n",
    "  trip_duration = trip['end'] - trip['start']\n",
    "  \n",
    "  # Get the total elapsed seconds in trip_duration\n",
    "  trip_length_seconds = trip_duration.total_seconds()\n",
    "  \n",
    "  # Append the results to our list\n",
    "  onebike_durations.append(trip_length_seconds)"
   ]
  },
  {
   "cell_type": "markdown",
   "id": "9340e8ea-3d18-4408-b7b6-f788dc1dbd1b",
   "metadata": {},
   "source": [
    "### 8. Average Trip Time\n",
    "\n",
    " W20529 took 291 trips in our data set. How long were the trips on average? We can use the built-in Python functions sum() and len() to make this calculation.\n",
    "\n",
    " Based on your last coding exercise, the data has been loaded as onebike_durations. Each entry is a number of seconds that the bike was out of the dock.\n",
    " \n",
    " Instructions:\n",
    " - Calculate total_elapsed_time across all trips in onebike_durations.\n",
    " - Calculate number_of_trips for onebike_durations.\n",
    " - Divide total_elapsed_time by number_of_trips to get the average trip length."
   ]
  },
  {
   "cell_type": "code",
   "execution_count": 14,
   "id": "d563e043-dab4-409b-ad75-062911ca4b3b",
   "metadata": {},
   "outputs": [
    {
     "name": "stdout",
     "output_type": "stream",
     "text": [
      "862.6\n"
     ]
    }
   ],
   "source": [
    "# What was the total duration of all trips?\n",
    "total_elapsed_time = sum(onebike_durations)\n",
    "\n",
    "# What was the total number of trips?\n",
    "number_of_trips = len(onebike_durations)\n",
    "  \n",
    "# Divide the total duration by the number of trips\n",
    "print(total_elapsed_time / number_of_trips)"
   ]
  },
  {
   "cell_type": "markdown",
   "id": "a28e6a14-3892-4647-84a3-38da88b6222e",
   "metadata": {},
   "source": [
    "### 9. The Long and The Short of Why Time is Hard\n",
    "\n",
    " Out of 291 trips taken by W20529, how long was the longest? How short was the shortest? Does anything look fishy?\n",
    "\n",
    " As before, data has been loaded as onebike_durations.\n",
    " \n",
    " Instructions:\n",
    " - Calculate shortest_trip from onebike_durations.\n",
    " - Calculate longest_trip from onebike_durations.\n",
    " - Print the results, turning shortest_trip and longest_trip into strings so they can print."
   ]
  },
  {
   "cell_type": "code",
   "execution_count": 15,
   "id": "470f6514-2ab4-4544-b1b9-1693cc65b82f",
   "metadata": {},
   "outputs": [
    {
     "name": "stdout",
     "output_type": "stream",
     "text": [
      "The shortest trip was 210.0 seconds\n",
      "The longest trip was 2046.0 seconds\n"
     ]
    }
   ],
   "source": [
    "# Calculate shortest and longest trips\n",
    "shortest_trip = min(onebike_durations)\n",
    "longest_trip = max(onebike_durations)\n",
    "\n",
    "# Print out the results\n",
    "print(\"The shortest trip was \" + '{}'.format(shortest_trip) + \" seconds\")\n",
    "print(\"The longest trip was \" + '{}'.format(longest_trip) + \" seconds\")"
   ]
  }
 ],
 "metadata": {
  "kernelspec": {
   "display_name": "Python 3",
   "language": "python",
   "name": "python3"
  },
  "language_info": {
   "codemirror_mode": {
    "name": "ipython",
    "version": 3
   },
   "file_extension": ".py",
   "mimetype": "text/x-python",
   "name": "python",
   "nbconvert_exporter": "python",
   "pygments_lexer": "ipython3",
   "version": "3.8.8"
  }
 },
 "nbformat": 4,
 "nbformat_minor": 5
}
