{
 "cells": [
  {
   "cell_type": "markdown",
   "id": "dfce2622-2a5a-4b37-9ce7-1e8e2c3f3f32",
   "metadata": {},
   "source": [
    "# Time Zones and Daylight Saving\n",
    "In this chapter, you'll learn to confidently tackle the time-related topic that causes people the most trouble: time zones and daylight saving. Continuing with our bike data, you'll learn how to compare clocks around the world, how to gracefully handle \"spring forward\" and \"fall back,\" and how to get up-to-date timezone data from the dateutil library."
   ]
  },
  {
   "cell_type": "code",
   "execution_count": 1,
   "id": "2063dfa4-9b48-4c70-8550-5c73dbcf26a4",
   "metadata": {},
   "outputs": [],
   "source": [
    "import pandas as pd\n",
    "from datetime import datetime\n",
    "\n",
    "capital_onebike = pd.read_csv('D:/Development/DataCamp/Data Science with Python - Career Track/13. Working with Dates and Times in Python/datasets/capital-onebike.csv')"
   ]
  },
  {
   "cell_type": "code",
   "execution_count": 2,
   "id": "c9b06b7c-3c9a-4ecd-9b5e-3b99539d9128",
   "metadata": {},
   "outputs": [
    {
     "data": {
      "text/html": [
       "<div>\n",
       "<style scoped>\n",
       "    .dataframe tbody tr th:only-of-type {\n",
       "        vertical-align: middle;\n",
       "    }\n",
       "\n",
       "    .dataframe tbody tr th {\n",
       "        vertical-align: top;\n",
       "    }\n",
       "\n",
       "    .dataframe thead th {\n",
       "        text-align: right;\n",
       "    }\n",
       "</style>\n",
       "<table border=\"1\" class=\"dataframe\">\n",
       "  <thead>\n",
       "    <tr style=\"text-align: right;\">\n",
       "      <th></th>\n",
       "      <th>Start date</th>\n",
       "      <th>End date</th>\n",
       "      <th>Start station number</th>\n",
       "      <th>Start station</th>\n",
       "      <th>End station number</th>\n",
       "      <th>End station</th>\n",
       "      <th>Bike number</th>\n",
       "      <th>Member type</th>\n",
       "    </tr>\n",
       "  </thead>\n",
       "  <tbody>\n",
       "    <tr>\n",
       "      <th>0</th>\n",
       "      <td>2017-10-01 15:23:25</td>\n",
       "      <td>2017-10-01 15:26:26</td>\n",
       "      <td>31038</td>\n",
       "      <td>Glebe Rd &amp; 11th St N</td>\n",
       "      <td>31036</td>\n",
       "      <td>George Mason Dr &amp; Wilson Blvd</td>\n",
       "      <td>W20529</td>\n",
       "      <td>Member</td>\n",
       "    </tr>\n",
       "    <tr>\n",
       "      <th>1</th>\n",
       "      <td>2017-10-01 15:42:57</td>\n",
       "      <td>2017-10-01 17:49:59</td>\n",
       "      <td>31036</td>\n",
       "      <td>George Mason Dr &amp; Wilson Blvd</td>\n",
       "      <td>31036</td>\n",
       "      <td>George Mason Dr &amp; Wilson Blvd</td>\n",
       "      <td>W20529</td>\n",
       "      <td>Casual</td>\n",
       "    </tr>\n",
       "    <tr>\n",
       "      <th>2</th>\n",
       "      <td>2017-10-02 06:37:10</td>\n",
       "      <td>2017-10-02 06:42:53</td>\n",
       "      <td>31036</td>\n",
       "      <td>George Mason Dr &amp; Wilson Blvd</td>\n",
       "      <td>31037</td>\n",
       "      <td>Ballston Metro / N Stuart &amp; 9th St N</td>\n",
       "      <td>W20529</td>\n",
       "      <td>Member</td>\n",
       "    </tr>\n",
       "    <tr>\n",
       "      <th>3</th>\n",
       "      <td>2017-10-02 08:56:45</td>\n",
       "      <td>2017-10-02 09:18:03</td>\n",
       "      <td>31037</td>\n",
       "      <td>Ballston Metro / N Stuart &amp; 9th St N</td>\n",
       "      <td>31295</td>\n",
       "      <td>Potomac &amp; M St NW</td>\n",
       "      <td>W20529</td>\n",
       "      <td>Member</td>\n",
       "    </tr>\n",
       "    <tr>\n",
       "      <th>4</th>\n",
       "      <td>2017-10-02 18:23:48</td>\n",
       "      <td>2017-10-02 18:45:05</td>\n",
       "      <td>31295</td>\n",
       "      <td>Potomac &amp; M St NW</td>\n",
       "      <td>31230</td>\n",
       "      <td>Metro Center / 12th &amp; G St NW</td>\n",
       "      <td>W20529</td>\n",
       "      <td>Member</td>\n",
       "    </tr>\n",
       "  </tbody>\n",
       "</table>\n",
       "</div>"
      ],
      "text/plain": [
       "            Start date             End date  Start station number  \\\n",
       "0  2017-10-01 15:23:25  2017-10-01 15:26:26                 31038   \n",
       "1  2017-10-01 15:42:57  2017-10-01 17:49:59                 31036   \n",
       "2  2017-10-02 06:37:10  2017-10-02 06:42:53                 31036   \n",
       "3  2017-10-02 08:56:45  2017-10-02 09:18:03                 31037   \n",
       "4  2017-10-02 18:23:48  2017-10-02 18:45:05                 31295   \n",
       "\n",
       "                          Start station  End station number  \\\n",
       "0                  Glebe Rd & 11th St N               31036   \n",
       "1         George Mason Dr & Wilson Blvd               31036   \n",
       "2         George Mason Dr & Wilson Blvd               31037   \n",
       "3  Ballston Metro / N Stuart & 9th St N               31295   \n",
       "4                     Potomac & M St NW               31230   \n",
       "\n",
       "                            End station Bike number Member type  \n",
       "0         George Mason Dr & Wilson Blvd      W20529      Member  \n",
       "1         George Mason Dr & Wilson Blvd      W20529      Casual  \n",
       "2  Ballston Metro / N Stuart & 9th St N      W20529      Member  \n",
       "3                     Potomac & M St NW      W20529      Member  \n",
       "4         Metro Center / 12th & G St NW      W20529      Member  "
      ]
     },
     "execution_count": 2,
     "metadata": {},
     "output_type": "execute_result"
    }
   ],
   "source": [
    "capital_onebike.head()"
   ]
  },
  {
   "cell_type": "code",
   "execution_count": 3,
   "id": "b8047017-3269-42cb-808a-aa618d8f0570",
   "metadata": {},
   "outputs": [],
   "source": [
    "onebike_datetime_strings = [('2017-12-25 13:46:44', '2017-12-25 14:20:50'), \n",
    "                            ('2017-12-26 10:40:16', '2017-12-26 10:53:45'), \n",
    "                            ('2017-12-27 16:56:12', '2017-12-27 17:17:39'), \n",
    "                            ('2017-12-29 06:02:34', '2017-12-29 06:12:30'), \n",
    "                            ('2017-12-29 12:21:03', '2017-12-29 12:46:16'), \n",
    "                            ('2017-12-29 14:32:55', '2017-12-29 14:43:46'), \n",
    "                            ('2017-12-29 15:08:26', '2017-12-29 15:18:51'), \n",
    "                            ('2017-12-29 20:33:34', '2017-12-29 20:38:13'), \n",
    "                            ('2017-12-30 13:51:03', '2017-12-30 13:54:33'), \n",
    "                            ('2017-12-30 15:09:03', '2017-12-30 15:19:13')]"
   ]
  },
  {
   "cell_type": "code",
   "execution_count": 4,
   "id": "e8a8c894-41fa-435e-9485-ff332fb1be6f",
   "metadata": {},
   "outputs": [],
   "source": [
    "# Write down the format string\n",
    "fmt = \"%Y-%m-%d %H:%M:%S\"\n",
    "\n",
    "# Initialize a list for holding the pairs of datetime objects\n",
    "onebike_datetimes = []\n",
    "\n",
    "# Loop over all trips\n",
    "for (start, end) in onebike_datetime_strings:\n",
    "  trip = {'start': datetime.strptime(start, fmt),\n",
    "          'end': datetime.strptime(end, fmt)}\n",
    "  \n",
    "  # Append the trip\n",
    "  onebike_datetimes.append(trip)"
   ]
  },
  {
   "cell_type": "markdown",
   "id": "db8d124b-9d88-4027-b860-5129afbf8f2e",
   "metadata": {},
   "source": [
    "### 1. Creating Timezone Aware Datetimes\n",
    "\n",
    " In this exercise, you will practice setting timezones manually.\n",
    " \n",
    " Instructions:\n",
    " 1. Import timezone. Set the tzinfo to UTC, without using timedelta.\n",
    " 2. Set pst to be a timezone set for UTC-8. Set dt's timezone to be pst.\n",
    " 3. Set tz to be a timezone set for UTC+11. Set dt's timezone to be tz."
   ]
  },
  {
   "cell_type": "code",
   "execution_count": 5,
   "id": "ba09b43e-1f8c-4809-9f57-ce66d05c048d",
   "metadata": {},
   "outputs": [
    {
     "name": "stdout",
     "output_type": "stream",
     "text": [
      "2017-10-01T15:26:26+00:00\n"
     ]
    }
   ],
   "source": [
    "# 1.\n",
    "# Import datetime, timezone\n",
    "from datetime import datetime, timezone\n",
    "\n",
    "# October 1, 2017 at 15:26:26, UTC\n",
    "dt = datetime(2017, 10, 1, 15, 26, 26, tzinfo= timezone.utc)\n",
    "\n",
    "# Print results\n",
    "print(dt.isoformat())"
   ]
  },
  {
   "cell_type": "code",
   "execution_count": 6,
   "id": "c02db51e-6f76-4fe3-95aa-b71e30e4936e",
   "metadata": {},
   "outputs": [
    {
     "name": "stdout",
     "output_type": "stream",
     "text": [
      "2017-10-01T15:26:26-08:00\n"
     ]
    }
   ],
   "source": [
    "# 2.\n",
    "# Import datetime, timedelta, timezone\n",
    "from datetime import datetime, timedelta, timezone\n",
    "\n",
    "# Create a timezone for Pacific Standard Time, or UTC-8\n",
    "pst = timezone(timedelta(hours=-8))\n",
    "\n",
    "# October 1, 2017 at 15:26:26, UTC-8\n",
    "dt = datetime(2017, 10, 1, 15, 26, 26, tzinfo=pst)\n",
    "\n",
    "# Print results\n",
    "print(dt.isoformat())"
   ]
  },
  {
   "cell_type": "code",
   "execution_count": 7,
   "id": "a6cbe3a4-df22-4f0f-aae5-3f5f8ebeb604",
   "metadata": {},
   "outputs": [
    {
     "name": "stdout",
     "output_type": "stream",
     "text": [
      "2017-10-01T15:26:26+11:00\n"
     ]
    }
   ],
   "source": [
    "# 3.\n",
    "# Import datetime, timedelta, timezone\n",
    "from datetime import datetime, timedelta, timezone\n",
    "\n",
    "# Create a timezone for Australian Eastern Daylight Time, or UTC+11\n",
    "aedt = timezone(timedelta(hours=+11))\n",
    "\n",
    "# October 1, 2017 at 15:26:26, UTC+11\n",
    "dt = datetime(2017, 10, 1, 15, 26, 26, tzinfo=aedt)\n",
    "\n",
    "# Print results\n",
    "print(dt.isoformat())"
   ]
  },
  {
   "cell_type": "markdown",
   "id": "2ac2797d-7a5d-412c-8d50-e34146c1deea",
   "metadata": {},
   "source": [
    "### 2. Setting Timezones\n",
    "\n",
    " Now that you have the hang of setting timezones one at a time, let's look at setting them for the first ten trips that W20529 took.\n",
    "\n",
    " timezone and timedelta have already been imported. Make the change using .replace()\n",
    " \n",
    " Instructions:\n",
    " - Create edt, a timezone object whose UTC offset is -4 hours.\n",
    " - Within the for loop:\n",
    " - Set the tzinfo for trip['start'].\n",
    " - Set the tzinfo for trip['end']."
   ]
  },
  {
   "cell_type": "code",
   "execution_count": 8,
   "id": "75b0aa02-d2cb-4aee-b41a-a04b82ec2b9c",
   "metadata": {},
   "outputs": [],
   "source": [
    "# Create a timezone object corresponding to UTC-4\n",
    "edt = timezone(timedelta(hours=-4))\n",
    "\n",
    "# Loop over trips, updating the start and end datetimes to be in UTC-4\n",
    "for trip in onebike_datetimes[:10]:\n",
    "  # Update trip['start'] and trip['end']\n",
    "  trip['start'] = trip['start'].replace(tzinfo=edt)\n",
    "  trip['end'] = trip['end'].replace(tzinfo=edt)"
   ]
  },
  {
   "cell_type": "markdown",
   "id": "aeb9bd66-92e1-4cb2-bbc5-c7e6a2c7ae60",
   "metadata": {},
   "source": [
    "### 3. What Time did the Bike Leave in UTC?\n",
    "\n",
    " Having set the timezone for the first ten rides that W20529 took, let's see what time the bike left in UTC. We've already loaded the results of the previous exercise into memory.\n",
    " \n",
    " Instructions:\n",
    " - Within the for loop, move dt to be in UTC. Use timezone.utc as a convenient shortcut for UTC."
   ]
  },
  {
   "cell_type": "code",
   "execution_count": 9,
   "id": "770db84f-ccd1-41b9-8cff-98d72bdfe489",
   "metadata": {},
   "outputs": [
    {
     "name": "stdout",
     "output_type": "stream",
     "text": [
      "Original: 2017-12-25 13:46:44-04:00 | UTC: 2017-12-25T17:46:44+00:00\n",
      "Original: 2017-12-26 10:40:16-04:00 | UTC: 2017-12-26T14:40:16+00:00\n",
      "Original: 2017-12-27 16:56:12-04:00 | UTC: 2017-12-27T20:56:12+00:00\n",
      "Original: 2017-12-29 06:02:34-04:00 | UTC: 2017-12-29T10:02:34+00:00\n",
      "Original: 2017-12-29 12:21:03-04:00 | UTC: 2017-12-29T16:21:03+00:00\n",
      "Original: 2017-12-29 14:32:55-04:00 | UTC: 2017-12-29T18:32:55+00:00\n",
      "Original: 2017-12-29 15:08:26-04:00 | UTC: 2017-12-29T19:08:26+00:00\n",
      "Original: 2017-12-29 20:33:34-04:00 | UTC: 2017-12-30T00:33:34+00:00\n",
      "Original: 2017-12-30 13:51:03-04:00 | UTC: 2017-12-30T17:51:03+00:00\n",
      "Original: 2017-12-30 15:09:03-04:00 | UTC: 2017-12-30T19:09:03+00:00\n"
     ]
    }
   ],
   "source": [
    "# Loop over the trips\n",
    "for trip in onebike_datetimes[:10]:\n",
    "  # Pull out the start\n",
    "  dt = trip['start']\n",
    "  # Move dt to be in UTC\n",
    "  dt = dt.astimezone(timezone.utc)\n",
    "  \n",
    "  # Print the start time in UTC\n",
    "  print('Original:', trip['start'], '| UTC:', dt.isoformat())"
   ]
  },
  {
   "cell_type": "markdown",
   "id": "b85481a6-ecd6-4840-9320-0979d70e8142",
   "metadata": {},
   "source": [
    "### 4. Putting the Bike Trips into the Right Time Zone\n",
    "\n",
    " Instead of setting the timezones for W20529 by hand, let's assign them to their IANA timezone: 'America/New_York'. Since we know their political jurisdiction, we don't need to look up their UTC offset. Python will do that for us.\n",
    " \n",
    " Instructions:\n",
    " - Import tz from dateutil.\n",
    " - Assign et to be the timezone 'America/New_York'.\n",
    " - Within the for loop, set start and end to have et as their timezone (use .replace())."
   ]
  },
  {
   "cell_type": "code",
   "execution_count": 10,
   "id": "58e37420-7998-4d1d-bc93-cb99773be12f",
   "metadata": {},
   "outputs": [],
   "source": [
    "# Import tz\n",
    "from dateutil import tz\n",
    "\n",
    "# Create a timezone object for Eastern Time\n",
    "et = tz.gettz('America/New_York')\n",
    "\n",
    "# Loop over trips, updating the datetimes to be in Eastern Time\n",
    "for trip in onebike_datetimes[:10]:\n",
    "  # Update trip['start'] and trip['end']\n",
    "  trip['start'] = trip['start'].replace(tzinfo=et)\n",
    "  trip['end'] = trip['end'].replace(tzinfo=et)"
   ]
  },
  {
   "cell_type": "markdown",
   "id": "ae848c17-f27a-419f-996d-bf76ae7e5ccf",
   "metadata": {},
   "source": [
    "### 5. What Time did the Bike Leave? (Global Edition)\n",
    "\n",
    " When you need to move a datetime from one timezone into another, use .astimezone() and tz. Often you will be moving things into UTC, but for fun let's try moving things from 'America/New_York' into a few different time zones.\n",
    " \n",
    " Instructions:\n",
    " 1. Set uk to be the timezone for the UK: 'Europe/London'. Change local to be in the uk timezone and assign it to notlocal.\n",
    " 2. Set ist to be the timezone for India: 'Asia/Kolkata'. Change local to be in the ist timezone and assign it to notlocal.\n",
    " 3. Set sm to be the timezone for Samoa: 'Pacific/Apia'. Change local to be in the sm timezone and assign it to notlocal."
   ]
  },
  {
   "cell_type": "code",
   "execution_count": 11,
   "id": "dc1d7d1c-20fb-4f73-bab8-f1b20fcd26ff",
   "metadata": {},
   "outputs": [
    {
     "name": "stdout",
     "output_type": "stream",
     "text": [
      "2017-12-25T13:46:44-05:00\n",
      "2017-12-25T18:46:44+00:00\n"
     ]
    }
   ],
   "source": [
    "# 1.\n",
    "# Create the timezone object\n",
    "uk = tz.gettz('Europe/London')\n",
    "\n",
    "# Pull out the start of the first trip\n",
    "local = onebike_datetimes[0]['start']\n",
    "\n",
    "# What time was it in the UK?\n",
    "notlocal = local.astimezone(uk)\n",
    "\n",
    "# Print them out and see the difference\n",
    "print(local.isoformat())\n",
    "print(notlocal.isoformat())"
   ]
  },
  {
   "cell_type": "code",
   "execution_count": 12,
   "id": "117a3367-babc-4482-9ac4-7fdcbf81d2e6",
   "metadata": {},
   "outputs": [
    {
     "name": "stdout",
     "output_type": "stream",
     "text": [
      "2017-12-25T13:46:44-05:00\n",
      "2017-12-26T00:16:44+05:30\n"
     ]
    }
   ],
   "source": [
    "# 2.\n",
    "# Create the timezone object\n",
    "ist = tz.gettz('Asia/Kolkata')\n",
    "\n",
    "# Pull out the start of the first trip\n",
    "local = onebike_datetimes[0]['start']\n",
    "\n",
    "# What time was it in India?\n",
    "notlocal = local.astimezone(ist)\n",
    "\n",
    "# Print them out and see the difference\n",
    "print(local.isoformat())\n",
    "print(notlocal.isoformat())"
   ]
  },
  {
   "cell_type": "code",
   "execution_count": 13,
   "id": "7cff3de6-9172-4dce-bb75-b9562ad6d4e6",
   "metadata": {},
   "outputs": [
    {
     "name": "stdout",
     "output_type": "stream",
     "text": [
      "2017-12-25T13:46:44-05:00\n",
      "2017-12-26T08:46:44+14:00\n"
     ]
    }
   ],
   "source": [
    "# 3.\n",
    "# Create the timezone object\n",
    "sm = tz.gettz('Pacific/Apia')\n",
    "\n",
    "# Pull out the start of the first trip\n",
    "local = onebike_datetimes[0]['start']\n",
    "\n",
    "# What time was it in Samoa?\n",
    "notlocal = local.astimezone(sm)\n",
    "\n",
    "# Print them out and see the difference\n",
    "print(local.isoformat())\n",
    "print(notlocal.isoformat())"
   ]
  },
  {
   "cell_type": "markdown",
   "id": "a87bee26-5d74-43e9-b082-840872d1f666",
   "metadata": {},
   "source": [
    "### 6. How Many Hours Elapsed around Daylight Saving?\n",
    "\n",
    " Since our bike data takes place in the fall, you'll have to do something else to learn about the start of daylight savings time.\n",
    "\n",
    " Let's look at March 12, 2017, in the Eastern United States, when Daylight Saving kicked in at 2 AM.\n",
    "\n",
    " If you create a datetime for midnight that night, and add 6 hours to it, how much time will have elapsed?\n",
    " \n",
    " Instructions:\n",
    " 1. You already have a datetime called start, set for March 12, 2017 at midnight, set to the timezone 'America/New_York'. Add six hours to start and assign it to end. Look at the UTC offset for the two results.\n",
    " 2. You added 6 hours, and got 6 AM, despite the fact that the clocks springing forward means only 5 hours would have actually elapsed! Calculate the time between start and end. How much time does Python think has elapsed?\n",
    " 3. Move your datetime objects into UTC and calculate the elapsed time again.Once you're in UTC, what result do you get?"
   ]
  },
  {
   "cell_type": "code",
   "execution_count": 14,
   "id": "417eac61-79c3-4cdf-b792-8fb85dd6a018",
   "metadata": {},
   "outputs": [
    {
     "name": "stdout",
     "output_type": "stream",
     "text": [
      "2017-03-12T00:00:00-05:00 to 2017-03-12T06:00:00-04:00\n"
     ]
    }
   ],
   "source": [
    "# 1.\n",
    "# Import datetime, timedelta, tz, timezone\n",
    "from datetime import datetime, timedelta, timezone\n",
    "from dateutil import tz\n",
    "\n",
    "# Start on March 12, 2017, midnight, then add 6 hours\n",
    "start = datetime(2017, 3, 12, tzinfo = tz.gettz('America/New_York'))\n",
    "end = start + timedelta(hours=+6)\n",
    "print(start.isoformat() + \" to \" + end.isoformat())"
   ]
  },
  {
   "cell_type": "code",
   "execution_count": 15,
   "id": "3ca8c5ec-6821-4b85-a065-5c46ced92b63",
   "metadata": {},
   "outputs": [
    {
     "name": "stdout",
     "output_type": "stream",
     "text": [
      "2017-03-12T00:00:00-05:00 to 2017-03-12T06:00:00-04:00\n",
      "6.0\n"
     ]
    }
   ],
   "source": [
    "# 2.\n",
    "# Import datetime, timedelta, tz, timezone\n",
    "from datetime import datetime, timedelta, timezone\n",
    "from dateutil import tz\n",
    "\n",
    "# Start on March 12, 2017, midnight, then add 6 hours\n",
    "start = datetime(2017, 3, 12, tzinfo = tz.gettz('America/New_York'))\n",
    "end = start + timedelta(hours=6)\n",
    "print(start.isoformat() + \" to \" + end.isoformat())\n",
    "\n",
    "# How many hours have elapsed?\n",
    "print((end - start).total_seconds()/(60*60))"
   ]
  },
  {
   "cell_type": "code",
   "execution_count": 16,
   "id": "dd4b5621-d3fe-4c4b-a090-6b6a20b4e504",
   "metadata": {},
   "outputs": [
    {
     "name": "stdout",
     "output_type": "stream",
     "text": [
      "2017-03-12T00:00:00-05:00 to 2017-03-12T06:00:00-04:00\n",
      "6.0\n",
      "5.0\n"
     ]
    }
   ],
   "source": [
    "# 3.\n",
    "# Import datetime, timedelta, tz, timezone\n",
    "from datetime import datetime, timedelta, timezone\n",
    "from dateutil import tz\n",
    "\n",
    "# Start on March 12, 2017, midnight, then add 6 hours\n",
    "start = datetime(2017, 3, 12, tzinfo = tz.gettz('America/New_York'))\n",
    "end = start + timedelta(hours=6)\n",
    "print(start.isoformat() + \" to \" + end.isoformat())\n",
    "\n",
    "# How many hours have elapsed?\n",
    "print((end - start).total_seconds()/(60*60))\n",
    "\n",
    "# What if we move to UTC?\n",
    "print((end.astimezone(timezone.utc) - start.astimezone(timezone.utc))\\\n",
    "      .total_seconds()/(60*60))"
   ]
  },
  {
   "cell_type": "markdown",
   "id": "e8f8a467-2607-4e00-a69b-7f013bb8c2de",
   "metadata": {},
   "source": [
    "### 7. March 29, Throughout a Decade\n",
    "\n",
    " Daylight Saving rules are complicated: they're different in different places, they change over time, and they usually start on a Sunday (and so they move around the calendar).\n",
    "\n",
    " For example, in the United Kingdom, as of the time this lesson was written, Daylight Saving begins on the last Sunday in March. Let's look at the UTC offset for March 29, at midnight, for the years 2000 to 2010.\n",
    " \n",
    " Instructions:\n",
    " - Using tz, set the timezone for dt to be 'Europe/London'.\n",
    " - Within the for loop:\n",
    " - Use the .replace() method to change the year for dt to be y.\n",
    " - Call .isoformat() on the result to observe the results."
   ]
  },
  {
   "cell_type": "code",
   "execution_count": 17,
   "id": "1fead40a-c007-49fa-b68e-35e5e13fba6e",
   "metadata": {},
   "outputs": [
    {
     "name": "stdout",
     "output_type": "stream",
     "text": [
      "2000-03-29T00:00:00+01:00\n",
      "2001-03-29T00:00:00+01:00\n",
      "2002-03-29T00:00:00+00:00\n",
      "2003-03-29T00:00:00+00:00\n",
      "2004-03-29T00:00:00+01:00\n",
      "2005-03-29T00:00:00+01:00\n",
      "2006-03-29T00:00:00+01:00\n",
      "2007-03-29T00:00:00+01:00\n",
      "2008-03-29T00:00:00+00:00\n",
      "2009-03-29T00:00:00+00:00\n",
      "2010-03-29T00:00:00+01:00\n"
     ]
    }
   ],
   "source": [
    "# Import datetime and tz\n",
    "from datetime import datetime\n",
    "from dateutil import tz\n",
    "\n",
    "# Create starting date\n",
    "dt = datetime(2000, 3, 29, tzinfo = tz.gettz('Europe/London'))\n",
    "\n",
    "# Loop over the dates, replacing the year, and print the ISO timestamp\n",
    "for y in range(2000, 2011):\n",
    "  print(dt.replace(year=y).isoformat())"
   ]
  },
  {
   "cell_type": "markdown",
   "id": "631730df-6dfb-45f2-aa14-8d1161f373ca",
   "metadata": {},
   "source": [
    "### 8. Finding Ambiguous Datetimes\n",
    "\n",
    " At the end of lesson 2, we saw something anomalous in our bike trip duration data. Let's see if we can identify what the problem might be.\n",
    "\n",
    " The data is loaded as onebike_datetimes, and tz has already been imported from dateutil.\n",
    " \n",
    " Instructions:\n",
    " - Loop over the trips in onebike_datetimes:\n",
    "   - Print any rides whose start is ambiguous.\n",
    "   - Print any rides whose end is ambiguous."
   ]
  },
  {
   "cell_type": "code",
   "execution_count": 18,
   "id": "16e6b405-fdf3-494b-81f7-24c93da62922",
   "metadata": {},
   "outputs": [],
   "source": [
    "# Loop over trips\n",
    "for trip in onebike_datetimes:\n",
    "  # Rides with ambiguous start\n",
    "  if tz.datetime_ambiguous(trip['start']):\n",
    "    print(\"Ambiguous start at \" + str(trip['start']))\n",
    "  # Rides with ambiguous end\n",
    "  if tz.datetime_ambiguous(trip['end']):\n",
    "    print(\"Ambiguous end at \" + str(trip['end']))"
   ]
  },
  {
   "cell_type": "markdown",
   "id": "8906c80b-2379-48ec-bbd7-afe5562926a3",
   "metadata": {},
   "source": [
    "### 9. Cleaning Daylight Saving Data with Fold\n",
    "\n",
    " As we've just discovered, there is a ride in our data set which is being messed up by a Daylight Savings shift. Let's clean up the data set so we actually have a correct minimum ride length. We can use the fact that we know the end of the ride happened after the beginning to fix up the duration messed up by the shift out of Daylight Savings.\n",
    "\n",
    " Since Python does not handle tz.enfold() when doing arithmetic, we must put our datetime objects into UTC, where ambiguities have been resolved.\n",
    "\n",
    " onebike_datetimes is already loaded and in the right timezone. tz and timezone have been imported. Use tz.UTC for the timezone.\n",
    " \n",
    " Instructions:\n",
    " - Complete the if statement to be true only when a ride's start comes after its end.\n",
    " - When start is after end, call tz.enfold() on the end so you know it refers to the one after the daylight savings time change.\n",
    " - After the if statement, convert the start and end to UTC so you can make a proper comparison."
   ]
  },
  {
   "cell_type": "code",
   "execution_count": 19,
   "id": "3ec43c96-022e-44b4-b0bd-55e63adcd341",
   "metadata": {},
   "outputs": [
    {
     "name": "stdout",
     "output_type": "stream",
     "text": [
      "Shortest trip: 210.0\n"
     ]
    }
   ],
   "source": [
    "trip_durations = []\n",
    "for trip in onebike_datetimes:\n",
    "  # When the start is later than the end, set the fold to be 1\n",
    "  if trip['start'] > trip['end']:\n",
    "    trip['end'] = tz.enfold(trip['end'])\n",
    "  # Convert to UTC\n",
    "  start = trip['start'].astimezone(timezone.utc)\n",
    "  end = trip['end'].astimezone(timezone.utc)\n",
    "\n",
    "  # Subtract the difference\n",
    "  trip_length_seconds = (end-start).total_seconds()\n",
    "  trip_durations.append(trip_length_seconds)\n",
    "\n",
    "# Take the shortest trip duration\n",
    "print(\"Shortest trip: \" + str(min(trip_durations)))"
   ]
  }
 ],
 "metadata": {
  "kernelspec": {
   "display_name": "Python 3",
   "language": "python",
   "name": "python3"
  },
  "language_info": {
   "codemirror_mode": {
    "name": "ipython",
    "version": 3
   },
   "file_extension": ".py",
   "mimetype": "text/x-python",
   "name": "python",
   "nbconvert_exporter": "python",
   "pygments_lexer": "ipython3",
   "version": "3.8.8"
  }
 },
 "nbformat": 4,
 "nbformat_minor": 5
}
