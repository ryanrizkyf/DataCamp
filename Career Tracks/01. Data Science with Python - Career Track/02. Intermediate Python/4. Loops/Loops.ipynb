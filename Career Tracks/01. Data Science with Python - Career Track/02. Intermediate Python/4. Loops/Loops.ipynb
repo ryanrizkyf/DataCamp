{
 "cells": [
  {
   "cell_type": "markdown",
   "metadata": {},
   "source": [
    "# Loops\n",
    "There are several techniques you can use to repeatedly execute Python code. While loops are like repeated if statements, the for loop iterates over all kinds of data structures. Learn all about them in this chapter."
   ]
  },
  {
   "cell_type": "code",
   "execution_count": 2,
   "metadata": {},
   "outputs": [
    {
     "name": "stdout",
     "output_type": "stream",
     "text": [
      "1\n",
      "2\n",
      "3\n"
     ]
    }
   ],
   "source": [
    "# 1. While: Warming Up\n",
    "\n",
    "# The while loop is like a repeated if statement. \n",
    "# The code is executed over and over again, as long as the condition is True. \n",
    "# Have another look at its recipe.\n",
    "\n",
    "# while condition :\n",
    "#     expression\n",
    "\n",
    "# Can you tell how many printouts the following while loop will do?\n",
    "\n",
    "x = 1\n",
    "while x < 4 :\n",
    "    print(x)\n",
    "    x = x + 1\n",
    "\n",
    "# After 3 runs, x will be equal to 4, causing x < 4 to evaluate to False. \n",
    "# This means that the while loop is executed 3 times, giving three printouts."
   ]
  },
  {
   "cell_type": "code",
   "execution_count": 3,
   "metadata": {},
   "outputs": [
    {
     "name": "stdout",
     "output_type": "stream",
     "text": [
      "correcting...\n",
      "7\n",
      "correcting...\n",
      "6\n",
      "correcting...\n",
      "5\n",
      "correcting...\n",
      "4\n",
      "correcting...\n",
      "3\n",
      "correcting...\n",
      "2\n",
      "correcting...\n",
      "1\n",
      "correcting...\n",
      "0\n"
     ]
    }
   ],
   "source": [
    "# 2. Basic While Loop\n",
    "\n",
    "# Below you can find the example from the video where the error variable, initially equal to 50.0, is divided by 4 and printed out on every run:\n",
    "\n",
    "# error = 50.0\n",
    "# while error > 1 :\n",
    "#     error = error / 4\n",
    "#    print(error)\n",
    "\n",
    "# This example will come in handy, because it's time to build a while loop yourself! \n",
    "# We're going to code a while loop that implements a very basic control system for an inverted pendulum. \n",
    "# If there's an offset from standing perfectly straight, the while loop will incrementally fix this offset.\n",
    "\n",
    "# Note that if your while loop takes too long to run, you might have made a mistake. \n",
    "# In particular, remember to indent the contents of the loop!\n",
    "\n",
    "# Instructions\n",
    "# Create the variable offset with an initial value of 8.\n",
    "# Code a while loop that keeps running as long as offset is not equal to 0. Inside the while loop:\n",
    "# Print out the sentence \"correcting...\".\n",
    "# Next, decrease the value of offset by 1. You can do this with offset = offset - 1.\n",
    "# Finally, still within your loop, print out offset so you can see how it changes.\n",
    "\n",
    "# Initialize offset\n",
    "offset = 8\n",
    "\n",
    "# Code the while loop\n",
    "while offset != 0:\n",
    "    print('correcting...')\n",
    "    offset = offset - 1\n",
    "    print(offset)"
   ]
  },
  {
   "cell_type": "code",
   "execution_count": 4,
   "metadata": {},
   "outputs": [
    {
     "name": "stdout",
     "output_type": "stream",
     "text": [
      "correcting...\n",
      "-5\n",
      "correcting...\n",
      "-4\n",
      "correcting...\n",
      "-3\n",
      "correcting...\n",
      "-2\n",
      "correcting...\n",
      "-1\n",
      "correcting...\n",
      "0\n"
     ]
    }
   ],
   "source": [
    "# 3. Add Conditionals\n",
    "\n",
    "# The while loop that corrects the offset is a good start, but what if offset is negative? \n",
    "# You can try to run the following code where offset is initialized to -6:\n",
    "\n",
    "# Initialize offset\n",
    "# offset = -6\n",
    "\n",
    "# Code the while loop\n",
    "# while offset != 0 :\n",
    "#     print(\"correcting...\")\n",
    "#     offset = offset - 1\n",
    "#     print(offset)\n",
    "\n",
    "# but your session will be disconnected. \n",
    "# The while loop will never stop running, because offset will be further decreased on every run. \n",
    "# offset != 0 will never become False and the while loop continues forever.\n",
    "\n",
    "# Fix things by putting an if-else statement inside the while loop. \n",
    "# If your code is still taking too long to run, you probably made a mistake!\n",
    "\n",
    "# Instructions\n",
    "# Inside the while loop, complete the if-else statement:\n",
    "# If offset is greater than zero, you should decrease offset by 1.\n",
    "# Else, you should increase offset by 1.\n",
    "# If you've coded things correctly, hitting Submit Answer should work this time.\n",
    "# If your code is still taking too long to run (or your session is expiring), you probably made a mistake. \n",
    "# Check your code and make sure that the statement offset != 0 will eventually evaluate to FALSE!\n",
    "\n",
    "# Initialize offset\n",
    "offset = -6\n",
    "\n",
    "# Code the while loop\n",
    "while offset != 0 :\n",
    "    print(\"correcting...\")\n",
    "    if offset > 0 :\n",
    "      offset = offset - 1\n",
    "    else : \n",
    "      offset = offset + 1    \n",
    "    print(offset)\n",
    "\n",
    "# The while loop is not that often used in Data Science, so let's head over to the for loop."
   ]
  },
  {
   "cell_type": "code",
   "execution_count": 5,
   "metadata": {},
   "outputs": [
    {
     "name": "stdout",
     "output_type": "stream",
     "text": [
      "11.25\n",
      "18.0\n",
      "20.0\n",
      "10.75\n",
      "9.5\n"
     ]
    }
   ],
   "source": [
    "# 4. Loop Over a List\n",
    "\n",
    "# Have another look at the for loop that Hugo showed in the video:\n",
    "\n",
    "# fam = [1.73, 1.68, 1.71, 1.89]\n",
    "# for height in fam : \n",
    "#     print(height)\n",
    "\n",
    "# As usual, you simply have to indent the code with 4 spaces to tell Python which code should be executed in the for loop.\n",
    "\n",
    "# The areas variable, containing the area of different rooms in your house, is already defined.\n",
    "\n",
    "# Instructions\n",
    "# Write a for loop that iterates over all elements of the areas list and prints out every element separately.\n",
    "\n",
    "# areas list\n",
    "areas = [11.25, 18.0, 20.0, 10.75, 9.50]\n",
    "\n",
    "# Code the for loop\n",
    "for area in areas:\n",
    "    print(area)"
   ]
  },
  {
   "cell_type": "code",
   "execution_count": 6,
   "metadata": {},
   "outputs": [
    {
     "name": "stdout",
     "output_type": "stream",
     "text": [
      "room 0: 11.25\n",
      "room 1: 18.0\n",
      "room 2: 20.0\n",
      "room 3: 10.75\n",
      "room 4: 9.5\n"
     ]
    }
   ],
   "source": [
    "# 5. Indexes and Values - Part 1\n",
    "\n",
    "# Using a for loop to iterate over a list only gives you access to every list element in each run, one after the other. \n",
    "# If you also want to access the index information, so where the list element you're iterating over is located, you can use enumerate().\n",
    "\n",
    "# As an example, have a look at how the for loop from the video was converted:\n",
    "\n",
    "# fam = [1.73, 1.68, 1.71, 1.89]\n",
    "# for index, height in enumerate(fam) :\n",
    "#     print(\"person \" + str(index) + \": \" + str(height))\n",
    "\n",
    "# Instructions\n",
    "# Adapt the for loop in the sample code to use enumerate() and use two iterator variables.\n",
    "# Update the print() statement so that on each run, \n",
    "# a line of the form \"room x: y\" should be printed, where x is the index of the list element and y is the actual list element, i.e. the area. \n",
    "# Make sure to print out this exact string, with the correct spacing.\n",
    "\n",
    "# areas list\n",
    "areas = [11.25, 18.0, 20.0, 10.75, 9.50]\n",
    "\n",
    "# Change for loop to use enumerate() and update print()\n",
    "for index, area in enumerate(areas):\n",
    "    print('room ' + str(index) + ': ' + str(area))"
   ]
  },
  {
   "cell_type": "code",
   "execution_count": 7,
   "metadata": {},
   "outputs": [
    {
     "name": "stdout",
     "output_type": "stream",
     "text": [
      "room 1: 11.25\n",
      "room 2: 18.0\n",
      "room 3: 20.0\n",
      "room 4: 10.75\n",
      "room 5: 9.5\n"
     ]
    }
   ],
   "source": [
    "# 6. Indexes and Values - Part 2\n",
    "\n",
    "# For non-programmer folks, room 0: 11.25 is strange. Wouldn't it be better if the count started at 1?\n",
    "\n",
    "# Instructions\n",
    "# Adapt the print() function in the for loop so that the first printout becomes \"room 1: 11.25\", the second one \"room 2: 18.0\" and so on.\n",
    "\n",
    "# areas list\n",
    "areas = [11.25, 18.0, 20.0, 10.75, 9.50]\n",
    "\n",
    "# Code the for loop\n",
    "for index, area in enumerate(areas) :\n",
    "    print(\"room \" + str(index + 1) + \": \" + str(area))"
   ]
  },
  {
   "cell_type": "code",
   "execution_count": 8,
   "metadata": {},
   "outputs": [
    {
     "name": "stdout",
     "output_type": "stream",
     "text": [
      "the hallway is 11.25 sqm\n",
      "the kitchen is 18.0 sqm\n",
      "the living room is 20.0 sqm\n",
      "the bedroom is 10.75 sqm\n",
      "the bathroom is 9.5 sqm\n"
     ]
    }
   ],
   "source": [
    "# 7. Loop Over List of Lists\n",
    "\n",
    "# Remember the house variable from the Intro to Python course? Have a look at its definition in the script. \n",
    "# It's basically a list of lists, where each sublist contains the name and area of a room in your house.\n",
    "\n",
    "# It's up to you to build a for loop from scratch this time!\n",
    "\n",
    "# Instructions\n",
    "# Write a for loop that goes through each sublist of house and prints out the x is y sqm, where x is the name of the room and y is the area of the room.\n",
    "\n",
    "# house list of lists\n",
    "house = [[\"hallway\", 11.25], \n",
    "         [\"kitchen\", 18.0], \n",
    "         [\"living room\", 20.0], \n",
    "         [\"bedroom\", 10.75], \n",
    "         [\"bathroom\", 9.50]]\n",
    "         \n",
    "# Build a for loop from scratch\n",
    "for x in house:\n",
    "    print('the ' + str(x[0]) + ' is ' + str(x[1]) + ' sqm')"
   ]
  },
  {
   "cell_type": "code",
   "execution_count": 9,
   "metadata": {},
   "outputs": [
    {
     "name": "stdout",
     "output_type": "stream",
     "text": [
      "the capital of spain is madrid\n",
      "the capital of france is paris\n",
      "the capital of germany is berlin\n",
      "the capital of norway is oslo\n",
      "the capital of italy is rome\n",
      "the capital of poland is warsaw\n",
      "the capital of austria is vienna\n"
     ]
    }
   ],
   "source": [
    "# 8. Loop over Dictionary\n",
    "\n",
    "# In Python 3, you need the items() method to loop over a dictionary:\n",
    "\n",
    "# world = { \"afghanistan\":30.55, \n",
    "#           \"albania\":2.77,\n",
    "#           \"algeria\":39.21 }\n",
    "\n",
    "# for key, value in world.items() :\n",
    "#     print(key + \" -- \" + str(value))\n",
    "\n",
    "# Remember the europe dictionary that contained the names of some European countries as key and their capitals as corresponding value? \n",
    "# Go ahead and write a loop to iterate over it!\n",
    "\n",
    "# Instructions\n",
    "# Write a for loop that goes through each key:value pair of europe. \n",
    "# On each iteration, \"the capital of x is y\" should be printed out, where x is the key and y is the value of the pair.\n",
    "\n",
    "# Definition of dictionary\n",
    "europe = {'spain':'madrid', 'france':'paris', 'germany':'berlin',\n",
    "          'norway':'oslo', 'italy':'rome', 'poland':'warsaw', 'austria':'vienna' }\n",
    "          \n",
    "# Iterate over europe\n",
    "for key, value in europe.items():\n",
    "    print('the capital of ' + key + ' is ' + value)\n",
    "\n",
    "\n",
    "# Notice that the order of the printouts doesn't necessarily correspond with the order used when defining europe. \n",
    "# Remember: dictionaries are inherently unordered!"
   ]
  },
  {
   "cell_type": "code",
   "execution_count": 10,
   "metadata": {},
   "outputs": [],
   "source": [
    "# 9. Loop Over NumPy Array\n",
    "\n",
    "# If you're dealing with a 1D Numpy array, looping over all elements can be as simple as:\n",
    "\n",
    "# for x in my_array :\n",
    "#      ...\n",
    "\n",
    "# If you're dealing with a 2D Numpy array, it's more complicated. A 2D array is built up of multiple 1D arrays. \n",
    "# To explicitly iterate over all separate elements of a multi-dimensional array, you'll need this syntax:\n",
    "\n",
    "# for x in np.nditer(my_array) :\n",
    "#     ...\n",
    "\n",
    "# Two Numpy arrays that you might recognize from the intro course are available in your Python session: \n",
    "# np_height, a Numpy array containing the heights of Major League Baseball players, \n",
    "# and np_baseball, a 2D Numpy array that contains both the heights (first column) and weights (second column) of those players.\n",
    "\n",
    "# Instructions\n",
    "# Import the numpy package under the local alias np.\n",
    "# Write a for loop that iterates over all elements in np_height and prints out \"x inches\" for each element, where x is the value in the array.\n",
    "# Write a for loop that visits every element of the np_baseball array and prints it out.\n",
    "\n",
    "# Import numpy as np\n",
    "# import numpy as np\n",
    "\n",
    "# For loop over np_height\n",
    "# for x in np_height:\n",
    "#     print(str(x) + ' inches')\n",
    "\n",
    "# For loop over np_baseball\n",
    "# for x in np.nditer(np_baseball):\n",
    "#     print(x)\n",
    "\n",
    "# Try to add an additional argument end = to the print() call - the output will be mesmerizing!"
   ]
  },
  {
   "cell_type": "code",
   "execution_count": 11,
   "metadata": {},
   "outputs": [],
   "source": [
    "# 10. Loop Over DataFrame - Part 1\n",
    "\n",
    "# Iterating over a Pandas DataFrame is typically done with the iterrows() method. \n",
    "# Used in a for loop, every observation is iterated over and on every iteration the row label and actual row contents are available:\n",
    "\n",
    "# for lab, row in brics.iterrows() :\n",
    "#     ...\n",
    "\n",
    "# In this and the following exercises you will be working on the cars DataFrame. \n",
    "# It contains information on the cars per capita and whether people drive right or left for seven countries in the world.\n",
    "\n",
    "# Instructions\n",
    "# Write a for loop that iterates over the rows of cars and on each iteration perform two print() calls: \n",
    "# one to print out the row label and one to print out all of the rows contents.\n",
    "\n",
    "# Import cars data\n",
    "# import pandas as pd\n",
    "# cars = pd.read_csv('cars.csv', index_col = 0)\n",
    "\n",
    "# Iterate over rows of cars\n",
    "# for lab, row in cars.iterrows():\n",
    "#     print(lab)\n",
    "#     print(row)"
   ]
  },
  {
   "cell_type": "code",
   "execution_count": 12,
   "metadata": {},
   "outputs": [],
   "source": [
    "# 11. Loop Over DataFrame - Part 2\n",
    "\n",
    "# The row data that's generated by iterrows() on every run is a Pandas Series. \n",
    "# This format is not very convenient to print out. \n",
    "# Luckily, you can easily select variables from the Pandas Series using square brackets:\n",
    "\n",
    "# for lab, row in brics.iterrows() :\n",
    "#     print(row['country'])\n",
    "\n",
    "# Instructions\n",
    "# Using the iterators lab and row, adapt the code in the for loop such that the first iteration prints out \"US: 809\", the second iteration \"AUS: 731\", and so on.\n",
    "# The output should be in the form \"country: cars_per_cap\". \n",
    "# Make sure to print out this exact string (with the correct spacing).\n",
    "# You can use str() to convert your integer data to a string so that you can print it in conjunction with the country label.\n",
    "\n",
    "# Import cars data\n",
    "# import pandas as pd\n",
    "# cars = pd.read_csv('cars.csv', index_col = 0)\n",
    "\n",
    "# Adapt for loop\n",
    "# for lab, row in cars.iterrows() :\n",
    "#     print(lab + ': ' + str(row['cars_per_cap']))"
   ]
  },
  {
   "cell_type": "code",
   "execution_count": 13,
   "metadata": {},
   "outputs": [],
   "source": [
    "# 12. Add Column - Part 1\n",
    "\n",
    "# In the video, Hugo showed you how to add the length of the country names of the brics DataFrame in a new column:\n",
    "\n",
    "# for lab, row in brics.iterrows() :\n",
    "#     brics.loc[lab, \"name_length\"] = len(row[\"country\"])\n",
    "\n",
    "# You can do similar things on the cars DataFrame.\n",
    "\n",
    "# Instructions\n",
    "# Use a for loop to add a new column, named COUNTRY, that contains a uppercase version of the country names in the \"country\" column. \n",
    "# You can use the string method upper() for this.\n",
    "# To see if your code worked, print out cars. Don't indent this code, so that it's not part of the for loop.\n",
    "\n",
    "# Import cars data\n",
    "# import pandas as pd\n",
    "# cars = pd.read_csv('cars.csv', index_col = 0)\n",
    "\n",
    "# Code for loop that adds COUNTRY column\n",
    "# for lab, row in cars.iterrows():\n",
    "#     cars.loc[lab, 'COUNTRY'] = row['country'].upper()\n",
    "\n",
    "# Print cars\n",
    "# print(cars)"
   ]
  },
  {
   "cell_type": "code",
   "execution_count": 14,
   "metadata": {},
   "outputs": [],
   "source": [
    "# 13. Add Column - Part 2\n",
    "\n",
    "# Using iterrows() to iterate over every observation of a Pandas DataFrame is easy to understand, but not very efficient. \n",
    "# On every iteration, you're creating a new Pandas Series.\n",
    "\n",
    "# If you want to add a column to a DataFrame by calling a function on another column, \n",
    "# the iterrows() method in combination with a for loop is not the preferred way to go. \n",
    "# Instead, you'll want to use apply().\n",
    "\n",
    "# Compare the iterrows() version with the apply() version to get the same result in the brics DataFrame:\n",
    "\n",
    "# for lab, row in brics.iterrows() :\n",
    "#     brics.loc[lab, \"name_length\"] = len(row[\"country\"])\n",
    "\n",
    "# brics[\"name_length\"] = brics[\"country\"].apply(len)\n",
    "\n",
    "# We can do a similar thing to call the upper() method on every name in the country column. \n",
    "# However, upper() is a method, so we'll need a slightly different approach:\n",
    "\n",
    "# Instructions\n",
    "# Replace the for loop with a one-liner that uses .apply(str.upper). \n",
    "# The call should give the same result: a column COUNTRY should be added to cars, containing an uppercase version of the country names.\n",
    "# As usual, print out cars to see the fruits of your hard labor\n",
    "\n",
    "# Import cars data\n",
    "# import pandas as pd\n",
    "# cars = pd.read_csv('cars.csv', index_col = 0)\n",
    "\n",
    "# Use .apply(str.upper)\n",
    "# cars['COUNTRY'] = cars['country'].apply(str.upper)"
   ]
  }
 ],
 "metadata": {
  "interpreter": {
   "hash": "117c4d106897c6f9d5f3860ef4ed39e54783789c7959aeae97ea78bbc55f9e4e"
  },
  "kernelspec": {
   "display_name": "Python 3.8.8 64-bit ('base': conda)",
   "name": "python3"
  },
  "language_info": {
   "codemirror_mode": {
    "name": "ipython",
    "version": 3
   },
   "file_extension": ".py",
   "mimetype": "text/x-python",
   "name": "python",
   "nbconvert_exporter": "python",
   "pygments_lexer": "ipython3",
   "version": "3.8.8"
  },
  "orig_nbformat": 4
 },
 "nbformat": 4,
 "nbformat_minor": 2
}
