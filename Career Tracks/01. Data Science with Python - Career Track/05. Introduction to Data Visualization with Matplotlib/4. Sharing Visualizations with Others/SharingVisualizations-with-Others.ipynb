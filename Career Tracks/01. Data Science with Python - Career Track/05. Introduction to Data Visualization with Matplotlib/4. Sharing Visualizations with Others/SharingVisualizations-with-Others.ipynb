{
 "cells": [
  {
   "cell_type": "markdown",
   "metadata": {},
   "source": [
    "# Sharing Visualizations with Others\n",
    "This chapter shows you how to share your visualizations with others: how to save your figures as files, how to adjust their look and feel, and how to automate their creation based on input data."
   ]
  },
  {
   "cell_type": "code",
   "execution_count": 1,
   "metadata": {},
   "outputs": [],
   "source": [
    "import pandas as pd\n",
    "import matplotlib.pyplot as plt\n",
    "\n",
    "summer_2016_medals = pd.read_csv('summer2016.csv')"
   ]
  },
  {
   "cell_type": "markdown",
   "metadata": {},
   "source": [
    "### 1. Switching Between Styles\n",
    "\n",
    " Selecting a style to use affects all of the visualizations that are created after this style is selected.\n",
    "\n",
    " Here, you will practice plotting data in two different styles. The data you will use is the same weather data we used in the first lesson: you will have available to you the DataFrame seattle_weather and the DataFrame austin_weather, both with records of the average temperature in every month.\n",
    "\n",
    " Instructions:\n",
    " 1. Select the 'ggplot' style, create a new Figure called fig, and a new Axes object called ax with plt.subplots.\n",
    " 2.  Select the 'Solarize_Light2' style, create a new Figure called fig, and a new Axes object called ax with plt.subplots."
   ]
  },
  {
   "cell_type": "code",
   "execution_count": null,
   "metadata": {},
   "outputs": [],
   "source": [
    "# 1.\n",
    "# Use the \"ggplot\" style and create new Figure/Axes\n",
    "plt.style.use('ggplot')\n",
    "fig, ax = plt.subplots()\n",
    "ax.plot(seattle_weather[\"MONTH\"], seattle_weather[\"MLY-TAVG-NORMAL\"])\n",
    "plt.show()\n",
    "\n",
    "# 2. \n",
    "# Use the \"Solarize_Light2\" style and create new Figure/Axes\n",
    "plt.style.use('Solarize_Light2')\n",
    "fig, ax = plt.subplots()\n",
    "ax.plot(austin_weather[\"MONTH\"], austin_weather[\"MLY-TAVG-NORMAL\"])\n",
    "plt.show()"
   ]
  },
  {
   "cell_type": "markdown",
   "metadata": {},
   "source": [
    "### 2. Saving a File Several Times\n",
    "\n",
    " If you want to share your visualizations with others, you will need to save them into files. Matplotlib provides as way to do that, through the savefig method of the Figure object. In this exercise, you will save a figure several times. Each time setting the parameters to something slightly different. We have provided and already created Figure object.\n",
    "\n",
    " Instructions:\n",
    " 1. Examine the figure by calling the plt.show() function.\n",
    " 2. Save the figure into the file my_figure.png, using the default resolution.\n",
    " 3. Save the figure into the file my_figure_300dpi.png and set the resolution to 300 dpi."
   ]
  },
  {
   "cell_type": "code",
   "execution_count": null,
   "metadata": {},
   "outputs": [],
   "source": [
    "# 1.\n",
    "# Show the figure\n",
    "plt.show()\n",
    "\n",
    "# 2. \n",
    "# Save as a PNG file\n",
    "fig.savefig('my_figure.png')\n",
    "\n",
    "# 3. \n",
    "# Save as a PNG file with 300 dpi\n",
    "fig.savefig('my_figure_300dpi.png', dpi=300)"
   ]
  },
  {
   "cell_type": "markdown",
   "metadata": {},
   "source": [
    "### 3. Save a Figure with Different Size\n",
    "\n",
    " Before saving your visualization, you might want to also set the size that the figure will have on the page. To do so, you can use the Figure object's set_size_inches method. This method takes a sequence of two values. The first sets the width and the second sets the height of the figure.\n",
    "\n",
    " Here, you will again have a Figure object called fig already provided (you can run plt.show if you want to see its contents). Use the Figure methods set_size_inches and savefig to change its size and save two different versions of this figure.\n",
    "\n",
    " Instructions:\n",
    " 1. Set the figure size as width of 3 inches and height of 5 inches and save it as 'figure_3_5.png' with default resolution.\n",
    " 2. Set the figure size to width of 5 inches and height of 3 inches and save it as 'figure_5_3.png' with default settings."
   ]
  },
  {
   "cell_type": "code",
   "execution_count": null,
   "metadata": {},
   "outputs": [],
   "source": [
    "# 1. \n",
    "# Set figure dimensions and save as a PNG\n",
    "fig.savefig('figure_3_5.png')\n",
    "fig.set_size_inches([3, 5])\n",
    "\n",
    "# 2. \n",
    "# Set figure dimensions and save as a PNG\n",
    "fig.savefig('figure_5_3.png')\n",
    "fig.set_size_inches([5, 3])"
   ]
  },
  {
   "cell_type": "markdown",
   "metadata": {},
   "source": [
    "### 4. Unique Values of Column\n",
    "\n",
    " One of the main strengths of Matplotlib is that it can be automated to adapt to the data that it receives as input. For example, if you receive data that has an unknown number of categories, you can still create a bar plot that has bars for each category.\n",
    "\n",
    " In this exercise and the next, you will be visualizing the weight of medals in the 2016 summer Olympic Games again, from a dataset that has some unknown number of branches of sports in it. This will be loaded into memory as a Pandas DataFrame object called summer_2016_medals, which has a column called \"Sport\" that tells you to which branch of sport each row corresponds. There is also a \"Weight\" column that tells you the weight of each athlete.\n",
    "\n",
    " In this exercise, we will extract the unique values of the \"Sport\" column\n",
    "\n",
    " Instructions:\n",
    " - Create a variable called sports_column that holds the data from the \"Sport\" column of the DataFrame object.\n",
    " - Use the unique method of this variable to find all the unique different sports that are present in this data, and assign these values into a new variable called sports.\n",
    " - Print the sports variable to the console."
   ]
  },
  {
   "cell_type": "code",
   "execution_count": 2,
   "metadata": {},
   "outputs": [
    {
     "name": "stdout",
     "output_type": "stream",
     "text": [
      "['Rowing' 'Taekwondo' 'Handball' 'Wrestling' 'Gymnastics' 'Swimming'\n",
      " 'Basketball' 'Boxing' 'Volleyball' 'Athletics' 'Rugby Sevens' 'Judo'\n",
      " 'Rhythmic Gymnastics' 'Weightlifting' 'Equestrianism' 'Badminton'\n",
      " 'Water Polo' 'Football' 'Fencing' 'Shooting' 'Sailing' 'Beach Volleyball'\n",
      " 'Canoeing' 'Hockey' 'Cycling' 'Tennis' 'Diving' 'Table Tennis'\n",
      " 'Triathlon' 'Archery' 'Synchronized Swimming' 'Modern Pentathlon'\n",
      " 'Trampolining' 'Golf']\n"
     ]
    }
   ],
   "source": [
    "# Extract the \"Sport\" column\n",
    "sports_column = summer_2016_medals['Sport']\n",
    "\n",
    "# Find the unique values of the \"Sport\" column\n",
    "sports = summer_2016_medals['Sport'].unique()\n",
    "\n",
    "# Print out the unique sports values\n",
    "print(sports)"
   ]
  },
  {
   "cell_type": "markdown",
   "metadata": {},
   "source": [
    "### 5. Automate your Visualization\n",
    "\n",
    " One of the main strengths of Matplotlib is that it can be automated to adapt to the data that it receives as input. For example, if you receive data that has an unknown number of categories, you can still create a bar plot that has bars for each category.\n",
    "\n",
    " This is what you will do in this exercise. You will be visualizing data about medal winners in the 2016 summer Olympic Games again, but this time you will have a dataset that has some unknown number of branches of sports in it. This will be loaded into memory as a Pandas DataFrame object called summer_2016_medals, which has a column called \"Sport\" that tells you to which branch of sport each row corresponds. There is also a \"Weight\" column that tells you the weight of each athlete.\n",
    "\n",
    " Instructions:\n",
    " - Iterate over the values of sports setting sport as your loop variable.\n",
    " - In each iteration, extract the rows where the \"Sport\" column is equal to sport.\n",
    " - Add a bar to the provided ax object, labeled with the sport name, with the mean of the \"Weight\" column as its height, and the standard deviation as a y-axis error bar.\n",
    " - Save the figure into the file \"sports_weights.png\"."
   ]
  },
  {
   "cell_type": "code",
   "execution_count": 3,
   "metadata": {},
   "outputs": [
    {
     "name": "stderr",
     "output_type": "stream",
     "text": [
      "<ipython-input-3-f611b973d8fd>:11: UserWarning: FixedFormatter should only be used together with FixedLocator\n",
      "  ax.set_xticklabels(sports, rotation=90)\n"
     ]
    },
    {
     "data": {
      "image/png": "[encoded data removed]",
      "text/plain": [
       "<Figure size 432x288 with 1 Axes>"
      ]
     },
     "metadata": {
      "needs_background": "light"
     },
     "output_type": "display_data"
    }
   ],
   "source": [
    "fig, ax = plt.subplots()\n",
    "\n",
    "# Loop over the different sports branches\n",
    "for sport in sports:\n",
    "  # Extract the rows only for this sport\n",
    "  sport_df = summer_2016_medals[summer_2016_medals['Sport'] == sport]\n",
    "  # Add a bar for the \"Weight\" mean with std y error bar\n",
    "  ax.bar(sport, sport_df['Weight'].mean(), yerr=sport_df['Weight'].std())\n",
    "\n",
    "ax.set_ylabel(\"Weight\")\n",
    "ax.set_xticklabels(sports, rotation=90)\n",
    "\n",
    "# Save the figure to file\n",
    "fig.savefig('sports_weights.png')"
   ]
  }
 ],
 "metadata": {
  "interpreter": {
   "hash": "117c4d106897c6f9d5f3860ef4ed39e54783789c7959aeae97ea78bbc55f9e4e"
  },
  "kernelspec": {
   "display_name": "Python 3.8.8 64-bit ('base': conda)",
   "language": "python",
   "name": "python3"
  },
  "language_info": {
   "codemirror_mode": {
    "name": "ipython",
    "version": 3
   },
   "file_extension": ".py",
   "mimetype": "text/x-python",
   "name": "python",
   "nbconvert_exporter": "python",
   "pygments_lexer": "ipython3",
   "version": "3.8.8"
  },
  "orig_nbformat": 4
 },
 "nbformat": 4,
 "nbformat_minor": 2
}
