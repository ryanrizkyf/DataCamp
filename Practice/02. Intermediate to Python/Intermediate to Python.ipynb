{
 "cells": [
  {
   "cell_type": "markdown",
   "id": "28521951-3d36-4eb1-a487-45e70d66de65",
   "metadata": {},
   "source": [
    "# Intermediate to Python"
   ]
  },
  {
   "cell_type": "markdown",
   "id": "bbaf44f3-04eb-48ba-a4f0-1cc5d0e45dbe",
   "metadata": {},
   "source": [
    "### No. 1"
   ]
  },
  {
   "cell_type": "markdown",
   "id": "a8379898-ec98-4f08-8817-c9a18b398b48",
   "metadata": {},
   "source": [
    "\n",
    " Here's the dictionary `datacamp`: \n",
    "\n",
    " datacamp = { 'course':'python', \n",
    "            'level':'intermediate', \n",
    "            'lesson': {'dictionaries':'python', \n",
    "                       'lists':'r' } }\n",
    "  \n",
    "  Complete the code to return the output \n",
    "  \n",
    "  `datacamp[\"practice\"] = 100`\n",
    "  \n",
    "  `\"practice\" ? datacamp`\n",
    "  \n",
    "  Output:\n",
    "  \n",
    "  True\n",
    "  \n",
    "  Multiple Choice:\n",
    "  \n",
    "  A. is in\n",
    "  \n",
    "  B. in\n",
    "  \n",
    "  C. is not in\n",
    "  \n",
    "  D. not in"
   ]
  },
  {
   "cell_type": "code",
   "execution_count": 2,
   "id": "16ca7a89-7daf-4bbd-8798-6af7edaee2d0",
   "metadata": {},
   "outputs": [
    {
     "data": {
      "text/plain": [
       "True"
      ]
     },
     "execution_count": 2,
     "metadata": {},
     "output_type": "execute_result"
    }
   ],
   "source": [
    "datacamp = { 'course':'python', \n",
    "            'level':'intermediate', \n",
    "            'lesson': {'dictionaries':'python', \n",
    "                       'lists':'r' } }\n",
    "\n",
    "datacamp[\"practice\"] = 100\n",
    "\"practice\" in datacamp"
   ]
  },
  {
   "cell_type": "markdown",
   "id": "ac73ac1a-9571-4145-845e-ad3c86ffe2c9",
   "metadata": {},
   "source": [
    "### No. 2"
   ]
  },
  {
   "cell_type": "code",
   "execution_count": 3,
   "id": "3679790f-d7d2-4326-b4d3-137729a71654",
   "metadata": {},
   "outputs": [
    {
     "name": "stdout",
     "output_type": "stream",
     "text": [
      "1\n",
      "2\n",
      "3\n",
      "4\n"
     ]
    }
   ],
   "source": [
    "i = 1\n",
    "while i < 5: #?\n",
    "  print(i)\n",
    "  i += 1"
   ]
  },
  {
   "cell_type": "markdown",
   "id": "ef76bd28-cec2-4cd4-a822-64c920ea067a",
   "metadata": {},
   "source": [
    "### No. 3"
   ]
  },
  {
   "cell_type": "code",
   "execution_count": 4,
   "id": "69fef0ba-db10-44b0-9b78-a3b0cbad1c95",
   "metadata": {},
   "outputs": [
    {
     "name": "stdout",
     "output_type": "stream",
     "text": [
      "10\n"
     ]
    }
   ],
   "source": [
    "x = 'C'\n",
    "\n",
    "if x == 'A': \n",
    "    print(1)\n",
    "elif x == 'B':\n",
    "    print(6)\n",
    "else:\n",
    "    print(10)"
   ]
  },
  {
   "cell_type": "markdown",
   "id": "92a76bee-9c82-4941-b532-d0403b581ac2",
   "metadata": {},
   "source": [
    "### No. 4\n",
    "\n",
    " Compare  the following numpy arrays: \n",
    "\n",
    " Output:\n",
    "\n",
    " [False  True  True False]"
   ]
  },
  {
   "cell_type": "code",
   "execution_count": 6,
   "id": "36030edd-6f87-44e6-950c-e720e7fed4e4",
   "metadata": {},
   "outputs": [],
   "source": [
    "import numpy as np\n",
    "\n",
    "numpy1 = np.array([17.2, 20.0, 8.25, 9.50])\n",
    "numpy2 = np.array([13.0, 24.0, 8.25, 9.0])"
   ]
  },
  {
   "cell_type": "code",
   "execution_count": 7,
   "id": "b2efc4ea-161c-400c-bcdb-17b50de42f39",
   "metadata": {},
   "outputs": [
    {
     "name": "stdout",
     "output_type": "stream",
     "text": [
      "[False  True  True False]\n"
     ]
    }
   ],
   "source": [
    "print(numpy1 <= numpy2)"
   ]
  },
  {
   "cell_type": "markdown",
   "id": "6a23fdb6-1903-469a-b44b-6410662ac3a2",
   "metadata": {},
   "source": [
    "### No. 5\n",
    "\n",
    " Output:\n",
    " \n",
    " AAPL is Apple\n",
    " \n",
    " AMZN is Amazon"
   ]
  },
  {
   "cell_type": "code",
   "execution_count": 8,
   "id": "6b0b5da9-6a82-4b7e-8951-266c704a101f",
   "metadata": {},
   "outputs": [
    {
     "name": "stdout",
     "output_type": "stream",
     "text": [
      "AAPL is Apple\n",
      "AMZN is Amazon\n"
     ]
    }
   ],
   "source": [
    "stocks = {'Apple': 'AAPL', 'Amazon': 'AMZN'}\n",
    "\n",
    "for p, q in stocks.items():\n",
    "    print(q + ' is ' + p)"
   ]
  },
  {
   "cell_type": "markdown",
   "id": "4d1028f9-4a74-4eb8-bb76-84ca31ed1a7f",
   "metadata": {},
   "source": [
    "### No. 6\n",
    "\n",
    " Output:\n",
    " \n",
    " 2\n",
    " \n",
    " 3\n",
    " \n",
    " 4"
   ]
  },
  {
   "cell_type": "code",
   "execution_count": 9,
   "id": "3332a7d4-c9eb-4728-9cff-dd8768daeb81",
   "metadata": {},
   "outputs": [
    {
     "name": "stdout",
     "output_type": "stream",
     "text": [
      "2\n",
      "3\n",
      "4\n"
     ]
    }
   ],
   "source": [
    "i = 1\n",
    "\n",
    "while i <= 3:\n",
    "    i = i + 1\n",
    "    print(i)"
   ]
  }
 ],
 "metadata": {
  "kernelspec": {
   "display_name": "Python 3",
   "language": "python",
   "name": "python3"
  },
  "language_info": {
   "codemirror_mode": {
    "name": "ipython",
    "version": 3
   },
   "file_extension": ".py",
   "mimetype": "text/x-python",
   "name": "python",
   "nbconvert_exporter": "python",
   "pygments_lexer": "ipython3",
   "version": "3.8.8"
  }
 },
 "nbformat": 4,
 "nbformat_minor": 5
}
