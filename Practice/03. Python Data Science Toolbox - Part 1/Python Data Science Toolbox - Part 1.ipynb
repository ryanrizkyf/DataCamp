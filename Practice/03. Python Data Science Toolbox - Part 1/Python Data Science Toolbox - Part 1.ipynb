{
 "cells": [
  {
   "cell_type": "markdown",
   "id": "2d48a6a7-a0f3-4f9e-a9db-a3d5d186e2bf",
   "metadata": {},
   "source": [
    "# Python Data Science Toolbox - Part 1"
   ]
  },
  {
   "cell_type": "markdown",
   "id": "c55e7b01-fbb8-40d4-871a-1cf060b4f4b2",
   "metadata": {},
   "source": [
    "### No. 1"
   ]
  },
  {
   "cell_type": "code",
   "execution_count": 1,
   "id": "dbafa231-b05c-4ee3-8c5b-5aa4b560d098",
   "metadata": {},
   "outputs": [
    {
     "name": "stdout",
     "output_type": "stream",
     "text": [
      "AnalystData \n"
     ]
    }
   ],
   "source": [
    "x = 'Analyst'\n",
    "y = 'Data '\n",
    "\n",
    "print(x + y)"
   ]
  },
  {
   "cell_type": "markdown",
   "id": "77c01e35-b5b9-4f86-a122-14fbb39a812a",
   "metadata": {},
   "source": [
    "### No. 2"
   ]
  },
  {
   "cell_type": "code",
   "execution_count": 2,
   "id": "6311505c-0859-4b68-b8aa-8b184ae80df0",
   "metadata": {},
   "outputs": [
    {
     "name": "stdout",
     "output_type": "stream",
     "text": [
      "8\n"
     ]
    }
   ],
   "source": [
    "d, c, b, a = (5, 8, 10, 13)\n",
    "\n",
    "print(c)"
   ]
  },
  {
   "cell_type": "markdown",
   "id": "2011e443-2e19-40bf-b0c8-1e153d928142",
   "metadata": {},
   "source": [
    "### No. 3"
   ]
  },
  {
   "cell_type": "code",
   "execution_count": 3,
   "id": "a988fc63-96a5-40c6-9195-e76ff1f148be",
   "metadata": {},
   "outputs": [
    {
     "data": {
      "text/plain": [
       "9"
      ]
     },
     "execution_count": 3,
     "metadata": {},
     "output_type": "execute_result"
    }
   ],
   "source": [
    "def add_numbers(x , y, z):\n",
    "    a = x + y + z\n",
    "    return a\n",
    "\n",
    "add_numbers(2, 3, 4)"
   ]
  },
  {
   "cell_type": "markdown",
   "id": "50a2c69a-bcaf-4cc6-a529-e142f70170f4",
   "metadata": {},
   "source": [
    "### No. 4"
   ]
  },
  {
   "cell_type": "code",
   "execution_count": 4,
   "id": "3da4734f-f649-43ad-a71e-aa5a7f4885b8",
   "metadata": {},
   "outputs": [
    {
     "name": "stdout",
     "output_type": "stream",
     "text": [
      "45\n"
     ]
    }
   ],
   "source": [
    "add_squares = (lambda x, y: x**2 + y**2)\n",
    "\n",
    "print(add_squares(3, 6))"
   ]
  },
  {
   "cell_type": "markdown",
   "id": "e0c553c3-ef9f-4054-9ea5-2352a2b2ca5e",
   "metadata": {},
   "source": [
    "### No. 5"
   ]
  },
  {
   "cell_type": "code",
   "execution_count": 5,
   "id": "8d3ef561-c350-4e6a-82f9-bcc30b1e6fa8",
   "metadata": {},
   "outputs": [
    {
     "name": "stdout",
     "output_type": "stream",
     "text": [
      "(16, 28)\n"
     ]
    }
   ],
   "source": [
    "def list_range(x):\n",
    "    \"\"\"Returns a tuple of the minimum\n",
    "    and maximum elements from a List\"\"\"\n",
    "    min_x = min(x)\n",
    "    max_x = max(x)\n",
    "    a = (min_x, max_x)\n",
    "    return a\n",
    "\n",
    "print(list_range([16, 28, 27, 19]))"
   ]
  }
 ],
 "metadata": {
  "kernelspec": {
   "display_name": "Python 3",
   "language": "python",
   "name": "python3"
  },
  "language_info": {
   "codemirror_mode": {
    "name": "ipython",
    "version": 3
   },
   "file_extension": ".py",
   "mimetype": "text/x-python",
   "name": "python",
   "nbconvert_exporter": "python",
   "pygments_lexer": "ipython3",
   "version": "3.8.8"
  }
 },
 "nbformat": 4,
 "nbformat_minor": 5
}
