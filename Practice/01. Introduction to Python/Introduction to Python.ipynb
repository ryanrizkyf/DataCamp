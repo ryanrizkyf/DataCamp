{
 "cells": [
  {
   "cell_type": "markdown",
   "id": "8bbad91c-e4e0-4e7d-9941-9fcb148b1be1",
   "metadata": {},
   "source": [
    "# Introduction to Python"
   ]
  },
  {
   "cell_type": "markdown",
   "id": "bc92cabd-6e33-44bd-a68c-27f972d4f583",
   "metadata": {},
   "source": [
    "### No. 1"
   ]
  },
  {
   "cell_type": "code",
   "execution_count": 1,
   "id": "75652b07-0e89-4fe3-82fb-51f93091d73c",
   "metadata": {},
   "outputs": [
    {
     "name": "stdout",
     "output_type": "stream",
     "text": [
      "3\n"
     ]
    }
   ],
   "source": [
    "import numpy as np\n",
    "\n",
    "np_2d = np.array([[2, 3], [4, 5]])    \n",
    "\n",
    "# first row, second column\n",
    "print(np_2d[-2, 1]) # [0, 1] = 3"
   ]
  },
  {
   "cell_type": "markdown",
   "id": "963c382d-b4e6-457e-906a-2aac867ac354",
   "metadata": {},
   "source": [
    "### No. 2\n",
    "\n",
    " Which one of these is a valid list? \n",
    " \n",
    " A. (1, 2, 3)\n",
    " \n",
    " B. {1, 2, 3}\n",
    " \n",
    " C. [1, 2, 3]"
   ]
  },
  {
   "cell_type": "code",
   "execution_count": 2,
   "id": "aefe8545-0e83-458c-8ac3-30832518d7dd",
   "metadata": {},
   "outputs": [],
   "source": [
    "# Answer\n",
    "\n",
    "# C. [1, 2, 3]"
   ]
  },
  {
   "cell_type": "markdown",
   "id": "7d900993-5ee6-4d2b-81ad-5bf9d0b7d726",
   "metadata": {},
   "source": [
    "### No. 3"
   ]
  },
  {
   "cell_type": "code",
   "execution_count": 3,
   "id": "a1ead643-3ca0-4826-bf1c-3d9de75134ab",
   "metadata": {},
   "outputs": [
    {
     "name": "stdout",
     "output_type": "stream",
     "text": [
      "['e', 'a', 'b']\n"
     ]
    }
   ],
   "source": [
    "x = [\"e\",\"a\",\"b\"]\n",
    "y = x[1:] # Slice elements from index 1 to the end of the array\n",
    "\n",
    "y[0] = \"g\"\n",
    "\n",
    "print(x)"
   ]
  },
  {
   "cell_type": "markdown",
   "id": "401c462d-9eb1-48a4-ad9a-d6c74c4a148f",
   "metadata": {},
   "source": [
    "### No. 4"
   ]
  },
  {
   "cell_type": "code",
   "execution_count": 4,
   "id": "94a392ad-eac7-4263-9ecd-7149b3142614",
   "metadata": {},
   "outputs": [
    {
     "data": {
      "text/plain": [
       "array([20, 12, 60])"
      ]
     },
     "execution_count": 4,
     "metadata": {},
     "output_type": "execute_result"
    }
   ],
   "source": [
    "import numpy as np\n",
    "\n",
    "np.array([4, 2, 6]) * np.array([5, 6, 10])"
   ]
  },
  {
   "cell_type": "markdown",
   "id": "bd7016bb-d25a-4a1d-a6cd-286dfa75eff4",
   "metadata": {},
   "source": [
    "### No. 5\n",
    "\n",
    " Complete the code to return the output!\n",
    "\n",
    " `import numpy as np`\n",
    "\n",
    " `x = np.array([\"Jan\", \"Feb\", \"Mar\", \"Apr\"])`\n",
    "\n",
    " `print(x[?])`\n",
    "\n",
    " Result:\n",
    "\n",
    " ['Jan' 'Feb' 'Mar' 'Apr']\n",
    " \n",
    " Multiple Choice:\n",
    " \n",
    " A. 1:3\n",
    " \n",
    " B. 2:4\n",
    " \n",
    " C. 0:4\n",
    " \n",
    " D. 1:4\n",
    " \n",
    " E. 0:3\n",
    " \n",
    " F. 0:2"
   ]
  },
  {
   "cell_type": "code",
   "execution_count": 5,
   "id": "81efb95c-0d60-4f20-9595-b64f756712ed",
   "metadata": {},
   "outputs": [
    {
     "name": "stdout",
     "output_type": "stream",
     "text": [
      "['Jan' 'Feb' 'Mar' 'Apr']\n"
     ]
    }
   ],
   "source": [
    "import numpy as np\n",
    "\n",
    "x = np.array([\"Jan\", \"Feb\", \"Mar\", \"Apr\"])\n",
    "\n",
    "print(x[0:4]) # Slice elements from index 0 to index 4 from the following array"
   ]
  },
  {
   "cell_type": "markdown",
   "id": "9874a4e3-a84c-431c-a2bf-a699c7bd9a0f",
   "metadata": {},
   "source": [
    "### No. 6\n",
    "\n",
    " Complete the code to returnthe output!\n",
    "\n",
    " `import numpy as np`\n",
    " \n",
    " `store = np.array([\"X\", \"Z\", \"Z\", \"Z\"])`\n",
    " \n",
    " `cost  = np.array([2, 6, 5, 2])`\n",
    " \n",
    " `select_cost = cost[store == ?]`\n",
    " \n",
    " `print(select_cost)`\n",
    " \n",
    " Result:\n",
    " \n",
    " [2]\n",
    " \n",
    " Multiple Choice:\n",
    " \n",
    " A. \"Y\"\n",
    " \n",
    " B. select_cost\n",
    " \n",
    " C. \"X\"\n",
    " \n",
    " D. \"Z\""
   ]
  },
  {
   "cell_type": "code",
   "execution_count": 6,
   "id": "ed6e7dc2-21a1-4ea6-b553-42ab66180291",
   "metadata": {},
   "outputs": [
    {
     "name": "stdout",
     "output_type": "stream",
     "text": [
      "[2]\n"
     ]
    }
   ],
   "source": [
    "import numpy as np\n",
    "\n",
    "store = np.array([\"X\", \"Z\", \"Z\", \"Z\"])\n",
    "cost  = np.array([2, 6, 5, 2])\n",
    "\n",
    "select_cost = cost[store == \"X\"]\n",
    "\n",
    "print(select_cost)"
   ]
  }
 ],
 "metadata": {
  "kernelspec": {
   "display_name": "Python 3",
   "language": "python",
   "name": "python3"
  },
  "language_info": {
   "codemirror_mode": {
    "name": "ipython",
    "version": 3
   },
   "file_extension": ".py",
   "mimetype": "text/x-python",
   "name": "python",
   "nbconvert_exporter": "python",
   "pygments_lexer": "ipython3",
   "version": "3.8.8"
  }
 },
 "nbformat": 4,
 "nbformat_minor": 5
}
