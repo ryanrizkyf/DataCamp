{
 "cells": [
  {
   "cell_type": "markdown",
   "id": "3476458d-0eec-4fcb-89c6-a2353948845a",
   "metadata": {},
   "source": [
    "# Python Data Science Toolbox - Part 2"
   ]
  },
  {
   "cell_type": "markdown",
   "id": "68399cdb-871d-4732-b161-27d77f814525",
   "metadata": {},
   "source": [
    "### No. 1"
   ]
  },
  {
   "cell_type": "code",
   "execution_count": 1,
   "id": "3bc8f875-0705-4ac6-a6ee-44728f78d4b4",
   "metadata": {},
   "outputs": [
    {
     "name": "stdout",
     "output_type": "stream",
     "text": [
      "<generator object <genexpr> at 0x00000241DBF21F20>\n"
     ]
    }
   ],
   "source": [
    "int_list = [5, -2, -4, 6]\n",
    "\n",
    "print(n for n in int_list if n < 0)"
   ]
  },
  {
   "cell_type": "markdown",
   "id": "e9c17848-c1d2-41d2-9fe8-f17b689b7003",
   "metadata": {},
   "source": [
    "### No. 2"
   ]
  },
  {
   "cell_type": "code",
   "execution_count": 2,
   "id": "5e30c02e-7d6a-4fdb-a917-d262fe6e1451",
   "metadata": {},
   "outputs": [
    {
     "name": "stdout",
     "output_type": "stream",
     "text": [
      "['NICK FURY', 'PHIL COULSON', 'MARIA HILL']\n"
     ]
    }
   ],
   "source": [
    "avengers = ['nick fury', 'phil coulson', 'maria hill']\n",
    "AVENGERS = [i.upper() for i in avengers]\n",
    "\n",
    "print(AVENGERS)"
   ]
  },
  {
   "cell_type": "markdown",
   "id": "bebc5f13-c5a6-4e6b-8233-7137cbac1913",
   "metadata": {},
   "source": [
    "### No. 3"
   ]
  },
  {
   "cell_type": "code",
   "execution_count": 3,
   "id": "1581e85f-541e-43e9-a835-230db4de15c5",
   "metadata": {},
   "outputs": [
    {
     "data": {
      "text/plain": [
       "['3A', '3B', '4A', '4B']"
      ]
     },
     "execution_count": 3,
     "metadata": {},
     "output_type": "execute_result"
    }
   ],
   "source": [
    "str1 = 'AB'\n",
    "str2 = '34'\n",
    "\n",
    "[x + y for x in str2 for y in str1]"
   ]
  },
  {
   "cell_type": "markdown",
   "id": "a6a8b65d-f598-44e7-b401-22324d99c7ba",
   "metadata": {},
   "source": [
    "### No. 4"
   ]
  },
  {
   "cell_type": "code",
   "execution_count": 4,
   "id": "e0ba3182-e736-4639-a6a5-7456b2c515bf",
   "metadata": {},
   "outputs": [
    {
     "name": "stdout",
     "output_type": "stream",
     "text": [
      "[2, 7, 5]\n"
     ]
    }
   ],
   "source": [
    "x = [2, 'P', 'Q', 7, 5, 'R']\n",
    "integers = [j for j in x if type(j) == int]\n",
    "\n",
    "print(integers)"
   ]
  },
  {
   "cell_type": "markdown",
   "id": "496291b0-82bd-48a9-840b-9f8863cd4e7a",
   "metadata": {},
   "source": [
    "### No. 5"
   ]
  },
  {
   "cell_type": "code",
   "execution_count": 5,
   "id": "d447af83-24e1-4dab-ad28-c609b914c409",
   "metadata": {},
   "outputs": [
    {
     "name": "stdout",
     "output_type": "stream",
     "text": [
      "{'Aug': 67, 'Mar': 20, 'May': 22}\n"
     ]
    }
   ],
   "source": [
    "x = ['Aug', 'Mar', 'May']\n",
    "y = [67, 20, 22]\n",
    "\n",
    "lists = zip(x, y)\n",
    "new_dict = dict(lists)\n",
    "\n",
    "print(new_dict)"
   ]
  }
 ],
 "metadata": {
  "kernelspec": {
   "display_name": "Python 3",
   "language": "python",
   "name": "python3"
  },
  "language_info": {
   "codemirror_mode": {
    "name": "ipython",
    "version": 3
   },
   "file_extension": ".py",
   "mimetype": "text/x-python",
   "name": "python",
   "nbconvert_exporter": "python",
   "pygments_lexer": "ipython3",
   "version": "3.8.8"
  }
 },
 "nbformat": 4,
 "nbformat_minor": 5
}
